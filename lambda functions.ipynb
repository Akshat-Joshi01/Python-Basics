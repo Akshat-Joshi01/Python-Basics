{
 "cells": [
  {
   "cell_type": "markdown",
   "id": "1468ea86",
   "metadata": {},
   "source": [
    "Lamda functions :-What is a Lambda Function?\n",
    "A lambda function in Python is a small, anonymous function defined using the keyword lambda. Unlike regular functions defined with the def keyword, lambda functions can have only a single expression and are often used for short, simple operations."
   ]
  },
  {
   "cell_type": "code",
   "execution_count": 1,
   "id": "b6d536ba",
   "metadata": {},
   "outputs": [
    {
     "data": {
      "text/plain": [
       "<function __main__.<lambda>(arguments)>"
      ]
     },
     "execution_count": 1,
     "metadata": {},
     "output_type": "execute_result"
    }
   ],
   "source": [
    "#SYNTAX\n",
    "lambda arguments: Expression\n"
   ]
  },
  {
   "cell_type": "code",
   "execution_count": null,
   "id": "e909cb19",
   "metadata": {},
   "outputs": [],
   "source": [
    "addition=lambda a,b:a+b\n",
    "type(addition)\n"
   ]
  },
  {
   "cell_type": "code",
   "execution_count": null,
   "id": "6cdb6d8f",
   "metadata": {},
   "outputs": [],
   "source": [
    "def even(num):\n",
    "    if num%2==0:\n",
    "        return True\n",
    "even(24)"
   ]
  },
  {
   "cell_type": "code",
   "execution_count": null,
   "id": "40cdf93c",
   "metadata": {},
   "outputs": [],
   "source": [
    "even1 = lambda num:num%2==0\n",
    "even1(12)"
   ]
  },
  {
   "cell_type": "code",
   "execution_count": null,
   "id": "fa2cec16",
   "metadata": {},
   "outputs": [],
   "source": [
    "def addition(x, y, z):\n",
    "    return x + y + z\n",
    "\n",
    "# Call the function with three arguments\n",
    "result = addition(12, 13, 14)\n",
    "print(result)\n"
   ]
  },
  {
   "cell_type": "code",
   "execution_count": null,
   "id": "a0d49405",
   "metadata": {},
   "outputs": [],
   "source": [
    "addition1 = lambda x,y,z:x+y+z\n",
    "addition1(12,13,14)\n"
   ]
  },
  {
   "cell_type": "code",
   "execution_count": null,
   "id": "37af91b6",
   "metadata": {},
   "outputs": [],
   "source": [
    "# map() - applies a function to all items in a list.\n",
    "number =[1,2,3,4,5,6]\n",
    "def square(number):\n",
    "    return number ** 2\n",
    "square(2)\n"
   ]
  },
  {
   "cell_type": "code",
   "execution_count": null,
   "id": "29f7e545",
   "metadata": {},
   "outputs": [],
   "source": [
    "# Define the list of numbers\n",
    "numbers = [1, 2, 3, 4, 5]\n",
    "\n",
    "# Use map with a lambda function to square each number\n",
    "squared_numbers = list(map(lambda x: x**2, numbers))\n",
    "\n",
    "# Output the result\n",
    "print(squared_numbers)\n"
   ]
  },
  {
   "cell_type": "code",
   "execution_count": null,
   "id": "ad656168",
   "metadata": {},
   "outputs": [],
   "source": []
  },
  {
   "cell_type": "code",
   "execution_count": null,
   "id": "54fd10a3",
   "metadata": {},
   "outputs": [],
   "source": []
  }
 ],
 "metadata": {
  "kernelspec": {
   "display_name": "Python 3 (ipykernel)",
   "language": "python",
   "name": "python3"
  },
  "language_info": {
   "codemirror_mode": {
    "name": "ipython",
    "version": 3
   },
   "file_extension": ".py",
   "mimetype": "text/x-python",
   "name": "python",
   "nbconvert_exporter": "python",
   "pygments_lexer": "ipython3",
   "version": "3.12.3"
  },
  "varInspector": {
   "cols": {
    "lenName": 16,
    "lenType": 16,
    "lenVar": 40
   },
   "kernels_config": {
    "python": {
     "delete_cmd_postfix": "",
     "delete_cmd_prefix": "del ",
     "library": "var_list.py",
     "varRefreshCmd": "print(var_dic_list())"
    },
    "r": {
     "delete_cmd_postfix": ") ",
     "delete_cmd_prefix": "rm(",
     "library": "var_list.r",
     "varRefreshCmd": "cat(var_dic_list()) "
    }
   },
   "types_to_exclude": [
    "module",
    "function",
    "builtin_function_or_method",
    "instance",
    "_Feature"
   ],
   "window_display": false
  }
 },
 "nbformat": 4,
 "nbformat_minor": 5
}
