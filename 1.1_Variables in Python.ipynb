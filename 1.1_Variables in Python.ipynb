{
 "cells": [
  {
   "cell_type": "markdown",
   "id": "cf6467aa-90ee-4a11-b10e-9d75e613ac34",
   "metadata": {},
   "source": [
    "Variables \n",
    "\n",
    "Variables are fundamental elements in programming used to store data that can be referced and manipulate in a program . In Python, variables are created when you assingn a value to them, and they do not need explicit declaration to reserve memory space. The declareation happens automatically when you assign a value to a variable \n",
    "\n",
    "Outline :\n",
    ". Introduction to variables \n",
    ". Declaring and Assigning Variables \n",
    ". Naming Converntions \n",
    ". Understanding Variable Types \n",
    ". Types Cheking and Conversion \n",
    ". Dynamic Typing \n",
    ". Praactical Examples and common Errors "
   ]
  },
  {
   "cell_type": "code",
   "execution_count": 1,
   "id": "0c727883-900d-4261-a46f-bf5e69ceb5a9",
   "metadata": {},
   "outputs": [],
   "source": [
    "a = 100"
   ]
  },
  {
   "cell_type": "code",
   "execution_count": 7,
   "id": "6caa1e41-169a-42e6-bd3a-e4c816230b2c",
   "metadata": {},
   "outputs": [
    {
     "name": "stdout",
     "output_type": "stream",
     "text": [
      "age : 22\n",
      "Height : 6.1\n",
      "name :  Akshat\n"
     ]
    }
   ],
   "source": [
    "## Declaring and Assigning Variables \n",
    "\n",
    "age = 22\n",
    "hight = 6.1\n",
    "name = \"Akshat\"\n",
    "is_student = True\n",
    "\n",
    "# Printing the variables \n",
    "print (\"age :\" ,age)\n",
    "print (\"Height :\",hight)\n",
    "print (\"name : \",name)\n"
   ]
  },
  {
   "cell_type": "code",
   "execution_count": null,
   "id": "68c61b97-8f74-4f2f-a436-56b65288db4b",
   "metadata": {},
   "outputs": [],
   "source": [
    "## Naming Conventions\n",
    "## Variable names should be descriptive\n",
    "## they must be start with a letter or an '_' and contains letter , numbers and underscores \n",
    "## variales names case sensitive \n",
    "\n",
    "# Valid variable names \n",
    "First_Name = \"Akshat\"\n",
    "Last_name = \"Joshi\""
   ]
  },
  {
   "cell_type": "code",
   "execution_count": null,
   "id": "a36b8bb4-3330-4335-ae51-64f4a9ae2479",
   "metadata": {},
   "outputs": [],
   "source": [
    "# invalid variable names \n",
    "2age = 30\n",
    "first-name = \"Akshat\"\n",
    "@name = \"Joshi\"\n"
   ]
  },
  {
   "cell_type": "code",
   "execution_count": null,
   "id": "8fcc8447-c7c4-42bc-987c-b52667f52b7e",
   "metadata": {},
   "outputs": [],
   "source": [
    "# Case Sensitivity \n",
    "First_Name = \"Akshat\"\n",
    "Last_name = \"Joshi\""
   ]
  },
  {
   "cell_type": "code",
   "execution_count": 13,
   "id": "9eaf56da-bb81-4f5d-ba48-7c48d6a3ba49",
   "metadata": {},
   "outputs": [
    {
     "name": "stdout",
     "output_type": "stream",
     "text": [
      "<class 'int'> <class 'float'> <class 'str'> <class 'bool'>\n"
     ]
    }
   ],
   "source": [
    "## Undasting Variable Types \n",
    "## Python is dynamically typed, type of variable is deetermined at runtime  \n",
    "age = 25  # int\n",
    "height = 5.7  # float\n",
    "name = \"Krish\"  # str\n",
    "is_student = True  # bool\n",
    "\n",
    "# Checking all types at once\n",
    "print(type(age), type(height), type(name), type(is_student))\n"
   ]
  },
  {
   "cell_type": "code",
   "execution_count": 31,
   "id": "bce1c4c4-046f-4179-a216-e9b14b4b029f",
   "metadata": {},
   "outputs": [
    {
     "name": "stdout",
     "output_type": "stream",
     "text": [
      "25\n",
      "<class 'str'>\n",
      "<class 'int'>\n",
      "<class 'float'>\n",
      "<class 'int'>\n",
      "10 <class 'int'>\n",
      "Hello <class 'str'>\n",
      "10.201 <class 'float'>\n"
     ]
    }
   ],
   "source": [
    "# Type cheking and conversion \n",
    "type(height) \n",
    "\n",
    "# Type conversion\n",
    "\n",
    "age_str = str(age)\n",
    "print (age_str)\n",
    "print (type(age_str))\n",
    "\n",
    "age = '25'\n",
    "print(type(int(25 )))\n",
    "\n",
    "#name = \"Akshat\"\n",
    "#print(type(int(name)))\n",
    "\n",
    "hight = 5.12\n",
    "print(type(height))\n",
    "print(type(int(height)))\n",
    "\n",
    "# Dynamic typing\n",
    "# python allows the type of variable to change as the program exceute\n",
    "\n",
    "var = 10 # int\n",
    "print(var,type(var))\n",
    "\n",
    "var = \"Hello\"  # str\n",
    "print(var,type(var))\n",
    "\n",
    "var = 10.201 # flote\n",
    "print(var,type(var))\n"
   ]
  },
  {
   "cell_type": "code",
   "execution_count": 35,
   "id": "f6d81ebe-5a3c-4218-83e4-6aea93d237e5",
   "metadata": {},
   "outputs": [
    {
     "name": "stdin",
     "output_type": "stream",
     "text": [
      "What is your age :  22\n"
     ]
    },
    {
     "name": "stdout",
     "output_type": "stream",
     "text": [
      "22 <class 'int'>\n"
     ]
    }
   ],
   "source": [
    "# Input \n",
    "\n",
    "age = int(input (\"What is your age : \"))\n",
    "print(age,type(age))\n"
   ]
  },
  {
   "cell_type": "code",
   "execution_count": 39,
   "id": "16d4dfa6-ccb7-4bd2-b80b-eedcd344521a",
   "metadata": {},
   "outputs": [
    {
     "name": "stdin",
     "output_type": "stream",
     "text": [
      "Enter first number :  55\n",
      "Enter Second number :  22\n"
     ]
    },
    {
     "name": "stdout",
     "output_type": "stream",
     "text": [
      "Sum: 77.0\n",
      "Difference: 33.0\n",
      "Product: 1210.0\n",
      "Quotient: 2.5\n"
     ]
    }
   ],
   "source": [
    "# Simple calculator \n",
    "\n",
    "num1 = float(input(\"Enter first number : \" ))\n",
    "num2 = float(input(\"Enter Second number : \" ))\n",
    "\n",
    "sum = num1 + num2\n",
    "difference = num1 - num2\n",
    "product = num1 * num2\n",
    "quotient = num1 / num2\n",
    "\n",
    "print(\"Sum:\",sum)\n",
    "print(\"Difference:\",difference)\n",
    "print(\"Product:\", product)\n",
    "print(\"Quotient:\", quotient)\n"
   ]
  },
  {
   "cell_type": "code",
   "execution_count": null,
   "id": "460b25bd-feea-49cb-8714-682bb737f92b",
   "metadata": {},
   "outputs": [],
   "source": []
  }
 ],
 "metadata": {
  "kernelspec": {
   "display_name": "Python 3 (ipykernel)",
   "language": "python",
   "name": "python3"
  },
  "language_info": {
   "codemirror_mode": {
    "name": "ipython",
    "version": 3
   },
   "file_extension": ".py",
   "mimetype": "text/x-python",
   "name": "python",
   "nbconvert_exporter": "python",
   "pygments_lexer": "ipython3",
   "version": "3.12.4"
  }
 },
 "nbformat": 4,
 "nbformat_minor": 5
}
