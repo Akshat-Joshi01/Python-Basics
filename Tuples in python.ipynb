{
 "cells": [
  {
   "cell_type": "markdown",
   "id": "03e00085",
   "metadata": {},
   "source": [
    "## Tupals\n",
    "\n",
    "outline \n",
    "1. Introduction to Tupal \n",
    "2. Creating Tupales\n",
    "3. Accessing Tupal Elements\n",
    "4. Tuple Operations\n",
    "5. Immutable methods \n",
    "6. Tuple Methods \n",
    "7. Packing and Unpacking Tuples \n",
    "8. Nestes Tuples\n",
    "9. Practical REcamples and Common Errors\n",
    "\n",
    "## Introduction to Tupals\n",
    "Tuples are ordered collections of itemes that are immutable. They are similar to lists but there immmutability makes them different."
   ]
  },
  {
   "cell_type": "code",
   "execution_count": 2,
   "id": "9c00ca5b",
   "metadata": {},
   "outputs": [
    {
     "name": "stdout",
     "output_type": "stream",
     "text": [
      "()\n",
      "<class 'tuple'>\n"
     ]
    }
   ],
   "source": [
    "## Create tuple \n",
    "empty_tupal=()\n",
    "print(empty_tupal)\n",
    "print(type(empty_tupal))"
   ]
  },
  {
   "cell_type": "code",
   "execution_count": 3,
   "id": "16dd2370",
   "metadata": {},
   "outputs": [
    {
     "name": "stdout",
     "output_type": "stream",
     "text": [
      "<class 'list'>\n",
      "<class 'tuple'>\n"
     ]
    }
   ],
   "source": [
    "lst = list()\n",
    "print(type(lst))\n",
    "\n",
    "tpl = tuple()\n",
    "print(type(tpl))"
   ]
  },
  {
   "cell_type": "code",
   "execution_count": 10,
   "id": "db2ae339",
   "metadata": {},
   "outputs": [
    {
     "data": {
      "text/plain": [
       "(1, 2, 3, 4)"
      ]
     },
     "execution_count": 10,
     "metadata": {},
     "output_type": "execute_result"
    }
   ],
   "source": [
    "numbers = tuple([1,2,3,4,5,6])\n",
    "numbers\n",
    "\n",
    "## Accessing Tuple Elements\n",
    "\n",
    "numbers\n",
    "\n",
    "numbers[0] # index number \n",
    "numbers[0:4]\n",
    "numbers[::-1]"
   ]
  },
  {
   "cell_type": "code",
   "execution_count": 4,
   "id": "e48361aa",
   "metadata": {},
   "outputs": [
    {
     "name": "stdout",
     "output_type": "stream",
     "text": [
      "(1, 'Hello World', 3.14, True)\n"
     ]
    }
   ],
   "source": [
    "mixed_tuple=(1,\"Hello World\",3.14,True)\n",
    "print(mixed_tuple)"
   ]
  },
  {
   "cell_type": "code",
   "execution_count": 12,
   "id": "18ca8f5f",
   "metadata": {},
   "outputs": [
    {
     "name": "stdout",
     "output_type": "stream",
     "text": [
      "Tuple a: (1, 2, 3, 4, 5, 6)\n",
      "Tuple b: (42, 'Hello', True, 3.14, (2+3j))\n",
      "(1, 2, 3, 4, 5, 6, 42, 'Hello', True, 3.14, (2+3j))\n",
      "(1, 'Hello World', 3.14, True)\n"
     ]
    },
    {
     "data": {
      "text/plain": [
       "(1,\n",
       " 'Hello World',\n",
       " 3.14,\n",
       " True,\n",
       " 1,\n",
       " 'Hello World',\n",
       " 3.14,\n",
       " True,\n",
       " 1,\n",
       " 'Hello World',\n",
       " 3.14,\n",
       " True)"
      ]
     },
     "execution_count": 12,
     "metadata": {},
     "output_type": "execute_result"
    }
   ],
   "source": [
    "#tuple oprations\n",
    "# Tuple 'a' with numbers up to 6\n",
    "a = (1, 2, 3, 4, 5, 6)\n",
    "\n",
    "# Tuple 'b' with 5 mixed elements (number, string, boolean, float, complex)\n",
    "b = (42, \"Hello\", True, 3.14, 2 + 3j)\n",
    "\n",
    "print(\"Tuple a:\", a)\n",
    "print(\"Tuple b:\", b)\n",
    "\n",
    "#tuple oprations\n",
    "concatenate_tupal =a+b\n",
    "print(concatenate_tupal)\n",
    "\n",
    "mixed_tuple=(1,\"Hello World\",3.14,True)\n",
    "print(mixed_tuple)\n",
    "mixed_tuple*3 # it will repeate the value 3 times "
   ]
  },
  {
   "cell_type": "code",
   "execution_count": 14,
   "id": "e9862dea",
   "metadata": {},
   "outputs": [
    {
     "name": "stdout",
     "output_type": "stream",
     "text": [
      "[1, 2, 3, 4, 5]\n",
      "[1, 'Krish', 3, 4, 5]\n"
     ]
    }
   ],
   "source": [
    "# Immutable Nazture of tupals \n",
    "## Tupals are immutable means their elements cannot be changed once assingned\n",
    "\n",
    "lst=[1,2,3,4,5]\n",
    "print(lst)\n",
    "\n",
    "lst[1]=\"Krish\"\n",
    "print(lst)\n"
   ]
  },
  {
   "cell_type": "code",
   "execution_count": 19,
   "id": "d6d30ec3",
   "metadata": {},
   "outputs": [
    {
     "name": "stdout",
     "output_type": "stream",
     "text": [
      "1\n",
      "2\n"
     ]
    }
   ],
   "source": [
    "## Tuple Methods \n",
    "\n",
    "lst=(1,2,3,4,5)\n",
    "#print(lst)\n",
    "\n",
    "print(lst.count(1))\n",
    "print(lst.index(3))\n"
   ]
  },
  {
   "cell_type": "code",
   "execution_count": 23,
   "id": "80113937",
   "metadata": {},
   "outputs": [
    {
     "name": "stdout",
     "output_type": "stream",
     "text": [
      "(1, 'Hello', 3.14)\n",
      "1\n",
      "Hello\n",
      "3.14\n",
      "1\n",
      "2 3 4 5\n",
      "6\n"
     ]
    }
   ],
   "source": [
    "## packing and unpacking tupale \n",
    "\n",
    "## packing\n",
    "packed_tuple = 1 ,\"Hello\",3.14\n",
    "print(packed_tuple)\n",
    "\n",
    "## unpacking\n",
    "a,b,c=packed_tuple\n",
    "print(a)\n",
    "print(b)\n",
    "print(c)\n",
    "\n",
    "## Unpacking with * \n",
    "numbers =(1,2,3,4,5,6)\n",
    "first,*middle,last =numbers\n",
    "\n",
    "print(first)\n",
    "print(*middle)\n",
    "print(last)\n"
   ]
  },
  {
   "cell_type": "code",
   "execution_count": 31,
   "id": "d4332247",
   "metadata": {},
   "outputs": [
    {
     "name": "stdout",
     "output_type": "stream",
     "text": [
      "(1, 2, 3)\n",
      "c\n",
      "1 2 3 \n",
      "a b c \n",
      "True False \n"
     ]
    }
   ],
   "source": [
    "## Nested tuple \n",
    "\n",
    "lst= [[1,2,3,4,],[6,7,8,9],[1,\"Hello\",3.14,\"c\"]]\n",
    "lst[0][0:3]\n",
    "\n",
    "## Nested List \n",
    "\n",
    "lst= [[1,2,3,4,],[6,7,8,9],[1,\"Hello\",3.14,\"c\"]]\n",
    "lst[2][0:3]\n",
    "\n",
    "nested_tuple = ((1,2,3),(\"a\",\"b\",\"c\"),(True,False))\n",
    "## access the elements inside a tuple \n",
    "print(nested_tuple[0])\n",
    "print(nested_tuple[1][2])\n",
    "\n",
    "## Iterating ober nested tujplws \n",
    "for sub_tuple in nested_tuple:\n",
    "    for item in sub_tuple:\n",
    "        print(item,end=\" \")\n",
    "    print()\n"
   ]
  },
  {
   "cell_type": "markdown",
   "id": "5da4d4a4",
   "metadata": {},
   "source": [
    "## Conclusion \n",
    "Tuples are versatile and useful in many real-world scenarios where an immutable and ordered collection of items is required. They are commonly used in data structures, function arguments, and return values, as well as dictionary keys. Understanding how to leverage tuples effectively can improve the efficiency and readability of your Python code. "
   ]
  },
  {
   "cell_type": "code",
   "execution_count": null,
   "id": "6338a01b",
   "metadata": {},
   "outputs": [],
   "source": []
  },
  {
   "cell_type": "code",
   "execution_count": null,
   "id": "8be6e88c",
   "metadata": {},
   "outputs": [],
   "source": []
  },
  {
   "cell_type": "code",
   "execution_count": null,
   "id": "bdad4440",
   "metadata": {},
   "outputs": [],
   "source": []
  },
  {
   "cell_type": "code",
   "execution_count": null,
   "id": "0de9327a",
   "metadata": {},
   "outputs": [],
   "source": []
  }
 ],
 "metadata": {
  "kernelspec": {
   "display_name": "Python 3 (ipykernel)",
   "language": "python",
   "name": "python3"
  },
  "language_info": {
   "codemirror_mode": {
    "name": "ipython",
    "version": 3
   },
   "file_extension": ".py",
   "mimetype": "text/x-python",
   "name": "python",
   "nbconvert_exporter": "python",
   "pygments_lexer": "ipython3",
   "version": "3.12.3"
  },
  "varInspector": {
   "cols": {
    "lenName": 16,
    "lenType": 16,
    "lenVar": 40
   },
   "kernels_config": {
    "python": {
     "delete_cmd_postfix": "",
     "delete_cmd_prefix": "del ",
     "library": "var_list.py",
     "varRefreshCmd": "print(var_dic_list())"
    },
    "r": {
     "delete_cmd_postfix": ") ",
     "delete_cmd_prefix": "rm(",
     "library": "var_list.r",
     "varRefreshCmd": "cat(var_dic_list()) "
    }
   },
   "types_to_exclude": [
    "module",
    "function",
    "builtin_function_or_method",
    "instance",
    "_Feature"
   ],
   "window_display": false
  }
 },
 "nbformat": 4,
 "nbformat_minor": 5
}
