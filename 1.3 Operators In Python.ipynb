{
 "cells": [
  {
   "cell_type": "markdown",
   "id": "5a2f14bb-c067-494c-8149-9fa68bb39695",
   "metadata": {},
   "source": [
    "# Deep Dive into OPERATORS\n",
    "\n",
    "outline:\n",
    "    1. Introduction to operators \n",
    "    2. Arithmatic Operators \n",
    "        . Addition \n",
    "        . Subtraction\n",
    "        . Multiplication \n",
    "        . Division \n",
    "        . Floor Division\n",
    "        . Modulus\n",
    "        . Exponentiation\n",
    "    3. Comparison operators \n",
    "        . Equal to \n",
    "        . Not Equal to\n",
    "        . Greater than or  equal to\n",
    "        . Less than or  equal to\n",
    "    4. Logical Operators \n",
    "        . AND \n",
    "        . OR\n",
    "        . NOT \n",
    "    5. PRACTICAL EXAMPLE AND COMMON ERRORS "
   ]
  },
  {
   "cell_type": "code",
   "execution_count": 1,
   "id": "72d7c076-ffdb-4daf-80f8-2d86809f9f09",
   "metadata": {},
   "outputs": [
    {
     "name": "stdout",
     "output_type": "stream",
     "text": [
      "\n",
      "\n"
     ]
    }
   ],
   "source": [
    "## Arathmatic Operators \n",
    "\n",
    "a = 10 \n",
    "b= 5\n",
    "\n",
    "Add_result =  a+b ## Addition \n",
    "Sub_result =  a-b ## Subtraction\n",
    "Mult_result =  a*b ## Multiplication \n",
    "Div_result =  a/b ## Division\n",
    "Floor_div_result = a//b ## Floor division\n",
    "Modulus_result = a%b ## Modulus operation\n",
    "\n",
    "exponent_result = a**b ## Exponentiation \n",
    "\n",
    "print(add_result) \n",
    "print(sub_result)\n",
    "print(mult_result)\n",
    "print(div_result)\n",
    "print(floor_div_result)\n",
    "print(modulus_result)\n",
    "print(exponent_result)\n"
   ]
  },
  {
   "cell_type": "code",
   "execution_count": null,
   "id": "b5876d72-6092-4a4a-83cb-c39d5626060b",
   "metadata": {},
   "outputs": [],
   "source": [
    "10/5\n",
    "\n",
    "21/5\n",
    "\n",
    "21//5 # floor_div - it will give u roundoff value "
   ]
  },
  {
   "cell_type": "markdown",
   "id": "2c90c298-8306-424b-a5a3-399ca6c48387",
   "metadata": {},
   "source": [
    "### Comparison oprators "
   ]
  },
  {
   "cell_type": "code",
   "execution_count": 3,
   "id": "6383cd26-6798-4115-a57c-4eb0fb9b87e6",
   "metadata": {},
   "outputs": [],
   "source": [
    "## Comparison oprators \n",
    "## == :- it is ude to assing or check the value \n",
    "a = 10\n",
    "b = 10\n",
    "a==b\n",
    "\n",
    "\n",
    "str1 = \"Akshat\"\n",
    "str2 = \"Akshat\"\n",
    "\n",
    "# comparison with case sensative \n",
    "\n",
    "str1 = \"Akshat\"\n",
    "str2 = \"akshat\"\n",
    "\n",
    "## not equel to !=\n",
    "\n",
    "str3 = \"Akshat\"\n",
    "str4 = \"akshat\"\n",
    "\n",
    "str3 != str4\n",
    "\n",
    "## greater than >\n",
    "num1= 45\n",
    "num2= 55\n",
    "num1 < num2\n",
    "\n",
    "## less than <\n",
    "num1= 45\n",
    "num2= 55\n",
    "num1 > num2\n",
    "\n",
    "## greter than equal and less tha equal\n",
    "\n",
    "num1= 45\n",
    "num2= 45\n",
    "num1 >= num2\n",
    "num1 <= num2\n",
    "\n"
   ]
  },
  {
   "cell_type": "markdown",
   "id": "d000fa1c-da23-4b7b-8166-3d58a6b51f16",
   "metadata": {},
   "source": [
    "### Logical Operators "
   ]
  },
  {
   "cell_type": "code",
   "execution_count": null,
   "id": "3a7ec5ba-e41e-4760-aea8-6d5255a4a74d",
   "metadata": {},
   "outputs": [],
   "source": [
    "## And ,Not,OR\n",
    "\n",
    "## And\n",
    "X = True\n",
    "Y = True\n",
    "\n",
    "result = X and Y\n",
    "print(Result)\n",
    "\n",
    "## OR\n",
    "X = True\n",
    "Y = False \n",
    "\n",
    "result = X or Y\n",
    "print(Result)\n",
    "\n",
    "## NOT Operator\n",
    "X = False \n",
    "not X\n"
   ]
  },
  {
   "cell_type": "code",
   "execution_count": 7,
   "id": "c0c4a3b3-085f-4c4e-952e-cf4b77fe269d",
   "metadata": {},
   "outputs": [
    {
     "name": "stdin",
     "output_type": "stream",
     "text": [
      "Enter first number:  55\n",
      "Enter second number:  55\n"
     ]
    },
    {
     "name": "stdout",
     "output_type": "stream",
     "text": [
      "Addition: 110.0\n",
      "Subtraction: 0.0\n",
      "Multiplication: 3025.0\n",
      "Division: 1.0\n",
      "Floor Division: 1.0\n",
      "Modulus: 0.0\n",
      "Exponentiation: 5.247445324687519e+95\n"
     ]
    }
   ],
   "source": [
    "# Sample Calculator\n",
    "\n",
    "num1 = float(input(\"Enter first number: \"))  \n",
    "num2 = float(input(\"Enter second number: \"))\n",
    "\n",
    "# Performing arithmetic operations\n",
    "\n",
    "addition = num1 + num2\n",
    "subtraction = num1 - num2  \n",
    "multiplication = num1 * num2\n",
    "division = num1 / num2\n",
    "floor_division = num1 // num2\n",
    "modulus = num1 % num2\n",
    "exponentiation = num1 ** num2\n",
    "\n",
    "# Displaying results\n",
    "print(\"Addition:\", addition)\n",
    "print(\"Subtraction:\", subtraction)  \n",
    "print(\"Multiplication:\", multiplication)\n",
    "print(\"Division:\", division)  \n",
    "print(\"Floor Division:\", floor_division)\n",
    "print(\"Modulus:\", modulus)\n",
    "print(\"Exponentiation:\", exponentiation)\n"
   ]
  },
  {
   "cell_type": "code",
   "execution_count": null,
   "id": "42549337-f980-4ffe-a3a6-ed820db04940",
   "metadata": {},
   "outputs": [],
   "source": []
  }
 ],
 "metadata": {
  "kernelspec": {
   "display_name": "Python 3 (ipykernel)",
   "language": "python",
   "name": "python3"
  },
  "language_info": {
   "codemirror_mode": {
    "name": "ipython",
    "version": 3
   },
   "file_extension": ".py",
   "mimetype": "text/x-python",
   "name": "python",
   "nbconvert_exporter": "python",
   "pygments_lexer": "ipython3",
   "version": "3.12.4"
  }
 },
 "nbformat": 4,
 "nbformat_minor": 5
}
