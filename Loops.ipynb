{
 "cells": [
  {
   "cell_type": "markdown",
   "id": "aed79a8d-afee-469d-bb84-81371a566154",
   "metadata": {
    "slideshow": {
     "slide_type": ""
    },
    "tags": []
   },
   "source": [
    "### Loops\n",
    "\n",
    "outline:\n",
    "    1. Introduction to loops \n",
    "    2. for loop\n",
    "        . Iterating over a range \n",
    "        . Iterating over a string \n",
    "    3. while loop\n",
    "    4. loop conteol statments\n",
    "        . break \n",
    "        . continue\n",
    "        . pass\n",
    "    5. Nested Loops\n",
    "    6. Practical Examples and common errors"
   ]
  },
  {
   "cell_type": "code",
   "execution_count": 3,
   "id": "dbf2ab23-c4a4-497b-8865-fb1aedf1cb17",
   "metadata": {},
   "outputs": [
    {
     "data": {
      "text/plain": [
       "range(0, 5)"
      ]
     },
     "execution_count": 3,
     "metadata": {},
     "output_type": "execute_result"
    }
   ],
   "source": [
    "range(5)"
   ]
  },
  {
   "cell_type": "code",
   "execution_count": null,
   "id": "359e70c5-a462-4252-9a62-9ba09e9820fa",
   "metadata": {},
   "outputs": [],
   "source": [
    "## for loop \n",
    "for i in range(5):\n",
    "    print(i)"
   ]
  },
  {
   "cell_type": "code",
   "execution_count": 14,
   "id": "8b545f39-a8b2-4861-bfe3-84c0362891eb",
   "metadata": {},
   "outputs": [
    {
     "name": "stdout",
     "output_type": "stream",
     "text": [
      "1\n",
      "2\n",
      "3\n",
      "4\n",
      "5\n"
     ]
    }
   ],
   "source": [
    "##range between specific number \n",
    "for i in range (1,6):\n",
    "    print(i) "
   ]
  },
  {
   "cell_type": "code",
   "execution_count": 32,
   "id": "c27bbd4f-dda3-4229-97ca-c6b5e3827204",
   "metadata": {},
   "outputs": [
    {
     "name": "stdout",
     "output_type": "stream",
     "text": [
      "1\n",
      "2\n",
      "3\n",
      "4\n",
      "5\n",
      "6\n",
      "7\n",
      "8\n",
      "9\n",
      "10\n",
      "###\n",
      "1\n",
      "3\n",
      "5\n",
      "7\n",
      "9\n",
      "###\n",
      "10\n",
      "9\n",
      "8\n",
      "7\n",
      "6\n",
      "5\n",
      "4\n",
      "3\n",
      "2\n",
      "1\n"
     ]
    }
   ],
   "source": [
    "## using step command it will inscres cout by default it is 1 but wecan change it .\n",
    "for i in range (1,11,1):\n",
    "    print(i)\n",
    "\n",
    "print(\"###\") ## to show differences in result \n",
    "\n",
    "# changing the value \n",
    "for i in range (1,11,2):\n",
    "    print (i)\n",
    "\n",
    "print(\"###\") ## to show differences in result \n",
    "\n",
    "for i in range (10,0,-1): ## it will show reverce range and last number is not printed \n",
    "    print (i)\n"
   ]
  },
  {
   "cell_type": "code",
   "execution_count": 34,
   "id": "a8c590c1-b661-4dfe-9d86-4d731d26e971",
   "metadata": {},
   "outputs": [
    {
     "name": "stdout",
     "output_type": "stream",
     "text": [
      "A\n",
      "k\n",
      "s\n",
      "h\n",
      "a\n",
      "t\n",
      " \n",
      "J\n",
      "o\n",
      "s\n",
      "h\n",
      "i\n"
     ]
    }
   ],
   "source": [
    "## string \n",
    "str = \"Akshat Joshi\"\n",
    "\n",
    "for i in str:\n",
    "    print (i)"
   ]
  },
  {
   "cell_type": "code",
   "execution_count": 5,
   "id": "a6890f23-7ca6-4ea1-9f26-f9ccdba1ee86",
   "metadata": {},
   "outputs": [
    {
     "name": "stdout",
     "output_type": "stream",
     "text": [
      "0\n",
      "1\n",
      "2\n",
      "3\n",
      "4\n"
     ]
    }
   ],
   "source": [
    "## while loop\n",
    "## The while loop continues to wxwcute as long as the condition is True.\n",
    "\n",
    "count = 0\n",
    "\n",
    "while count<5:\n",
    "    print(count)\n",
    "    count = count+1"
   ]
  },
  {
   "cell_type": "code",
   "execution_count": 1,
   "id": "3b01b4da-ee46-440a-a16d-9551e3c6a0f4",
   "metadata": {},
   "outputs": [
    {
     "name": "stdout",
     "output_type": "stream",
     "text": [
      "0\n"
     ]
    }
   ],
   "source": [
    "count =0 \n",
    "while count%2==0:\n",
    "    print (count) \n",
    "    count=count+1 # if we donot use this it won't stop printing 0."
   ]
  },
  {
   "cell_type": "code",
   "execution_count": 3,
   "id": "09cdf91a-3282-488a-b0ea-b6cb1630d196",
   "metadata": {
    "scrolled": true
   },
   "outputs": [
    {
     "name": "stdout",
     "output_type": "stream",
     "text": [
      "0\n",
      "1\n",
      "2\n",
      "3\n",
      "4\n"
     ]
    }
   ],
   "source": [
    "## Loop controle statements\n",
    "\n",
    "## break\n",
    "## the break statement exists the loop permaturely \n",
    "\n",
    "## break statement \n",
    "\n",
    "for i in range(10):\n",
    "    if i == 5:\n",
    "        break\n",
    "    print(i)"
   ]
  },
  {
   "cell_type": "code",
   "execution_count": 5,
   "id": "9305eb31-fd3c-4fd4-b1fb-a1701fc8e205",
   "metadata": {},
   "outputs": [
    {
     "name": "stdout",
     "output_type": "stream",
     "text": [
      "1\n",
      "3\n",
      "5\n",
      "7\n",
      "9\n"
     ]
    }
   ],
   "source": [
    "## Continue \n",
    "\n",
    "## The continue statement skips the current itweation and continues with the next.\n",
    "\n",
    "for i in range (10): # it is used to find odd number in the range of 1 to 10 \n",
    "    if i%2==0: # number are divisible by to remender 0 is match and it wount print 0\n",
    "        continue\n",
    "    print(i)\n",
    "    "
   ]
  },
  {
   "cell_type": "code",
   "execution_count": 4,
   "id": "4075f5c8-ab5f-41ff-a34c-f4539bacc0b4",
   "metadata": {},
   "outputs": [
    {
     "name": "stdout",
     "output_type": "stream",
     "text": [
      "0\n",
      "1\n",
      "2\n",
      "There is number  3\n",
      "3\n",
      "4\n"
     ]
    }
   ],
   "source": [
    "# pass \n",
    "# the pass statement is a null operation; it does nothing.\n",
    "\n",
    "for i in  range (5):\n",
    "    if i==3:\n",
    "        print(\"There is number \", i)\n",
    "        pass\n",
    "    print(i)"
   ]
  },
  {
   "cell_type": "code",
   "execution_count": 5,
   "id": "bc1f3c31-3323-4438-aa07-66b61bab3cbd",
   "metadata": {},
   "outputs": [
    {
     "name": "stdout",
     "output_type": "stream",
     "text": [
      "i:0 and j:0\n",
      "i:0 and j:1\n",
      "i:1 and j:0\n",
      "i:1 and j:1\n",
      "i:2 and j:0\n",
      "i:2 and j:1\n"
     ]
    }
   ],
   "source": [
    "# NEsted loops \n",
    "## a loop inside a loop \n",
    "\n",
    "for i in range (3):\n",
    "    for j in range(2):\n",
    "        print (f\"i:{i} and j:{j}\")"
   ]
  },
  {
   "cell_type": "code",
   "execution_count": 6,
   "id": "e48ebc71-a27b-4a15-ba53-eaec48d452a3",
   "metadata": {},
   "outputs": [
    {
     "name": "stdout",
     "output_type": "stream",
     "text": [
      "sum of first 10 natural number :  55\n"
     ]
    }
   ],
   "source": [
    "## Examples - calculate the sum of first N natural number using a while loop.\n",
    "\n",
    "## while loop\n",
    "\n",
    "n = 10 \n",
    "sum =0 \n",
    "count = 1\n",
    "\n",
    "while count <=n:\n",
    "    sum = sum + count\n",
    "    count = count +1\n",
    "print(\"sum of first 10 natural number : \", sum)\n"
   ]
  },
  {
   "cell_type": "code",
   "execution_count": 10,
   "id": "df1298f7",
   "metadata": {},
   "outputs": [
    {
     "name": "stdout",
     "output_type": "stream",
     "text": [
      "55\n"
     ]
    }
   ],
   "source": [
    "# for loop \n",
    "n = 10\n",
    "sum = 0\n",
    "\n",
    "for i in range(1, n + 1):  # Iterate from 1 to 10 (inclusive)\n",
    "    sum = sum + i  # Add the current value of i to sum\n",
    "\n",
    "print(sum)\n"
   ]
  },
  {
   "cell_type": "code",
   "execution_count": 18,
   "id": "73b5a5c3",
   "metadata": {},
   "outputs": [
    {
     "name": "stdout",
     "output_type": "stream",
     "text": [
      "2\n",
      "3\n",
      "5\n",
      "7\n",
      "11\n",
      "13\n",
      "17\n",
      "19\n",
      "23\n",
      "29\n",
      "31\n",
      "37\n",
      "41\n",
      "43\n",
      "47\n",
      "53\n",
      "59\n",
      "61\n",
      "67\n",
      "71\n",
      "73\n",
      "79\n",
      "83\n",
      "89\n",
      "97\n"
     ]
    }
   ],
   "source": [
    "## Example - Prime numbers between 1 and 100 \n",
    "\n",
    "for num in range (1,101):\n",
    "    if num>1:\n",
    "        for i in range (2,num):\n",
    "            if num%i ==0:\n",
    "                break\n",
    "        else:\n",
    "            print (num)"
   ]
  },
  {
   "cell_type": "markdown",
   "id": "65f60990",
   "metadata": {},
   "source": [
    "## Conclusion:\n",
    "#### Loops are powerful constructs inn python that allow you to execute a block of code multiple time . by understanding and using for and while loops, alonge with loops control statements like break, continue and pass you can handale a wide range of programming tasks efficiently.\n"
   ]
  },
  {
   "cell_type": "code",
   "execution_count": null,
   "id": "f6956f0d",
   "metadata": {},
   "outputs": [],
   "source": []
  },
  {
   "cell_type": "code",
   "execution_count": null,
   "id": "db873506",
   "metadata": {},
   "outputs": [],
   "source": []
  },
  {
   "cell_type": "code",
   "execution_count": null,
   "id": "60acb93d",
   "metadata": {},
   "outputs": [],
   "source": []
  },
  {
   "cell_type": "code",
   "execution_count": null,
   "id": "bd0f15bc",
   "metadata": {},
   "outputs": [],
   "source": []
  },
  {
   "cell_type": "code",
   "execution_count": null,
   "id": "791cf286",
   "metadata": {},
   "outputs": [],
   "source": []
  },
  {
   "cell_type": "code",
   "execution_count": null,
   "id": "d788c39e",
   "metadata": {},
   "outputs": [],
   "source": []
  },
  {
   "cell_type": "code",
   "execution_count": null,
   "id": "2290eeb1",
   "metadata": {},
   "outputs": [],
   "source": []
  },
  {
   "cell_type": "code",
   "execution_count": null,
   "id": "8472e0b3",
   "metadata": {},
   "outputs": [],
   "source": []
  }
 ],
 "metadata": {
  "kernelspec": {
   "display_name": "Python 3 (ipykernel)",
   "language": "python",
   "name": "python3"
  },
  "language_info": {
   "codemirror_mode": {
    "name": "ipython",
    "version": 3
   },
   "file_extension": ".py",
   "mimetype": "text/x-python",
   "name": "python",
   "nbconvert_exporter": "python",
   "pygments_lexer": "ipython3",
   "version": "3.12.3"
  },
  "varInspector": {
   "cols": {
    "lenName": 16,
    "lenType": 16,
    "lenVar": 40
   },
   "kernels_config": {
    "python": {
     "delete_cmd_postfix": "",
     "delete_cmd_prefix": "del ",
     "library": "var_list.py",
     "varRefreshCmd": "print(var_dic_list())"
    },
    "r": {
     "delete_cmd_postfix": ") ",
     "delete_cmd_prefix": "rm(",
     "library": "var_list.r",
     "varRefreshCmd": "cat(var_dic_list()) "
    }
   },
   "types_to_exclude": [
    "module",
    "function",
    "builtin_function_or_method",
    "instance",
    "_Feature"
   ],
   "window_display": false
  }
 },
 "nbformat": 4,
 "nbformat_minor": 5
}
