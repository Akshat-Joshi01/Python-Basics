{
 "cells": [
  {
   "cell_type": "markdown",
   "id": "5f4d2f06-7988-4f44-b35c-e9522c0149ca",
   "metadata": {},
   "source": [
    "# DATA TYEPS\n",
    "\n",
    "1. Defination:\n",
    ". Data types are a classification of data which tell the compiler or interpreter how the programmer intends to use data.\n",
    ". They determine the type of operations that can be performed on the data, the values that the data can take, and the amount of memory needed to store the data.\n",
    "\n",
    "2. Importance of Data Type in Programming\n",
    "   Explanaation:\n",
    "   . Data type ensure that data is stored in an effcient way.\n",
    "   . They help in performing correct operations on data.\n",
    "   . proper ude of data type can prebent errors and bugs in progeram.\n",
    "\n",
    "Outline:\n",
    "    1. Introduction to data type \n",
    "    2. Importance od daya typesnin programming \n",
    "    3. Basic Data Types\n",
    "        . Integers \n",
    "        . Floating-point number\n",
    "        . Strings\n",
    "        . Booleans\n",
    "    4. Advance Data Tyeps \n",
    "        . List\n",
    "        . Tuples \n",
    "        . Sets\n",
    "        . Dictionaries\n",
    "    5. Type Conversion\n",
    "    6. Practical Examples   "
   ]
  },
  {
   "cell_type": "code",
   "execution_count": null,
   "id": "1d1016c6-1769-4678-b5e7-4ca1f62192ae",
   "metadata": {},
   "outputs": [],
   "source": [
    "## Integer Examples\n",
    "age = 22\n",
    "type (age)\n",
    "\n",
    "## Floting-Point Data type\n",
    "\n",
    "height = 5.55\n",
    "print(height)\n",
    "Print(type(height))\n",
    "\n",
    "## Struing datatype example\n",
    "\n",
    "name = \"Akshat\"\n",
    "print (name)\n",
    "print (type(name))\n",
    "\n",
    "## Boolean Data type \n",
    "is_True = (True) \n",
    "type (is_True)\n",
    "\n",
    "a= 10 \n",
    "b = 10\n",
    "type(a==b)\n"
   ]
  },
  {
   "cell_type": "code",
   "execution_count": null,
   "id": "3644283f-22e4-4a61-8f84-8a70943d41d9",
   "metadata": {},
   "outputs": [],
   "source": [
    "## comman error's\n",
    "results = \"Hello\" + 3\n",
    "## currect way \n",
    "results = \"Hello\" + str(3)\n"
   ]
  },
  {
   "cell_type": "code",
   "execution_count": null,
   "id": "46bae816-0e34-40b2-808b-cd677ee7625d",
   "metadata": {},
   "outputs": [],
   "source": []
  }
 ],
 "metadata": {
  "kernelspec": {
   "display_name": "Python 3 (ipykernel)",
   "language": "python",
   "name": "python3"
  },
  "language_info": {
   "codemirror_mode": {
    "name": "ipython",
    "version": 3
   },
   "file_extension": ".py",
   "mimetype": "text/x-python",
   "name": "python",
   "nbconvert_exporter": "python",
   "pygments_lexer": "ipython3",
   "version": "3.12.4"
  }
 },
 "nbformat": 4,
 "nbformat_minor": 5
}
