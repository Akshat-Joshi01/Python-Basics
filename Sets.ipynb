{
 "cells": [
  {
   "cell_type": "markdown",
   "id": "7d13c502",
   "metadata": {},
   "source": [
    "## Sets\n",
    "Sets are a built-in data type in Python used to store collections of unique items. They are unordered, meaning the elements do not follow a specific order, and they do not allow duplicate elements. Sets are useful for membership tests, eliminating duplicate entries, and performing mathematical set operations like union, intersection, difference, and symmetric difference."
   ]
  },
  {
   "cell_type": "code",
   "execution_count": 2,
   "id": "e4f60f8c",
   "metadata": {},
   "outputs": [
    {
     "name": "stdout",
     "output_type": "stream",
     "text": [
      "{1, 2, 3, 4, 5}\n",
      "<class 'set'>\n"
     ]
    }
   ],
   "source": [
    "# create sets \n",
    "my_set={1,2,3,4,5}\n",
    "print(my_set)\n",
    "print(type(my_set))\n"
   ]
  },
  {
   "cell_type": "code",
   "execution_count": 1,
   "id": "1ccaf7e2",
   "metadata": {},
   "outputs": [
    {
     "name": "stdout",
     "output_type": "stream",
     "text": [
      "<class 'set'>\n"
     ]
    }
   ],
   "source": [
    "my_empty_set=set()\n",
    "print(type(my_empty_set))"
   ]
  },
  {
   "cell_type": "code",
   "execution_count": 4,
   "id": "75c1287c",
   "metadata": {},
   "outputs": [
    {
     "name": "stdout",
     "output_type": "stream",
     "text": [
      "{1, 2, 3, 4, 5, 7}\n"
     ]
    }
   ],
   "source": [
    "# Basics sets operation \n",
    "## Adding and removing elements \n",
    "\n",
    "my_set.add(7)\n",
    "print(my_set) # sets donot accept repeted or same values \n",
    "\n",
    "## Remove the elements from a set \n",
    "\n",
    "my_set.remove(3)\n",
    "print(my_set)\n",
    "\n",
    "# Discard IT will ignore the irrelevent number \n",
    "my_set.discard(30)\n",
    "print(my_set)\n",
    "\n",
    "## POP Method \n",
    "\n",
    "remove_Element= my_set.pop()\n",
    "print(remove_Element)\n",
    "\n",
    "##  Clear all the elements \n",
    "my_set.clear()\n",
    "print(myset)"
   ]
  },
  {
   "cell_type": "code",
   "execution_count": null,
   "id": "fa58e9b1",
   "metadata": {},
   "outputs": [],
   "source": [
    "## Set mrmber test\n",
    "my_set={1,2,3,4,5}\n",
    "print(3 in my_set)\n",
    "print(10 in my_set)\n"
   ]
  },
  {
   "cell_type": "code",
   "execution_count": 6,
   "id": "fb4a1d10",
   "metadata": {},
   "outputs": [
    {
     "name": "stdout",
     "output_type": "stream",
     "text": [
      "Union = {1, 2, 3, 4, 5, 6, 7, 8, 9}\n",
      "Intersection = {4, 5, 6}\n",
      "Updated Set1 after Intersection Update: {4, 5, 6}\n"
     ]
    }
   ],
   "source": [
    "## Mathematical Oprations \n",
    "# Creating two sets of numbers\n",
    "set1 = {1, 2, 3, 4, 5, 6}\n",
    "set2 = {4, 5, 6, 7, 8, 9}\n",
    "\n",
    "# Union\n",
    "union_set = set1.union(set2)\n",
    "print(\"Union = \", union_set)\n",
    "\n",
    "# Intersection\n",
    "intersection_set = set1.intersection(set2)\n",
    "print(\"Intersection = \", intersection_set)\n",
    "\n",
    "# Update set1 with intersection values\n",
    "set1.intersection_update(set2)\n",
    "print(\"Updated Set1 after Intersection Update = \", set1)\n",
    "\n"
   ]
  },
  {
   "cell_type": "code",
   "execution_count": 8,
   "id": "a1895022",
   "metadata": {},
   "outputs": [
    {
     "name": "stdout",
     "output_type": "stream",
     "text": [
      "{1, 2, 3}\n",
      "{8, 9, 7}\n"
     ]
    }
   ],
   "source": [
    "set1 = {1, 2, 3, 4, 5, 6}\n",
    "set2 = {4, 5, 6, 7, 8, 9}\n",
    "#Difference\n",
    "print(set1.difference(set2))\n",
    "print(set2.difference(set1))\n",
    "#Difference_update is used to update the output resulet in the the set \n",
    "\n",
    "\n",
    "#Symetric_difference \n",
    "\n",
    "set1.symmetric_difference(set2)\n",
    "#Symetric_difference_update is used to update the output resulet in the the set \n",
    "\n"
   ]
  },
  {
   "cell_type": "code",
   "execution_count": 10,
   "id": "701e01cd",
   "metadata": {},
   "outputs": [
    {
     "name": "stdout",
     "output_type": "stream",
     "text": [
      "False\n",
      "False\n"
     ]
    }
   ],
   "source": [
    "#Set Methods\n",
    "\n",
    "set1={1,2,3}\n",
    "set2={3,4,5}\n",
    "\n",
    "## is subset\n",
    "print(set1.issuperset(set2))\n",
    "print(set1.issubset(set2))\n"
   ]
  },
  {
   "cell_type": "code",
   "execution_count": 11,
   "id": "5ccd902e",
   "metadata": {},
   "outputs": [
    {
     "data": {
      "text/plain": [
       "{1, 3, 4, 5, 22}"
      ]
     },
     "execution_count": 11,
     "metadata": {},
     "output_type": "execute_result"
    }
   ],
   "source": [
    "# TO ignore the repetation of the elements \n",
    "lt  =[1,2,2,3,4,4,5]\n",
    "set(lt)\n"
   ]
  },
  {
   "cell_type": "code",
   "execution_count": 15,
   "id": "2d69106c",
   "metadata": {},
   "outputs": [
    {
     "name": "stdout",
     "output_type": "stream",
     "text": [
      "{'this', 'In', 'discussiong', 'about', 'sets', 'we', 'are', 'tutorial'}\n",
      "8\n"
     ]
    }
   ],
   "source": [
    "### conting unique wpeds om text \n",
    "\n",
    "text = \"In this tutorial we are discussiong about sets\"\n",
    "words=text.split()\n",
    "## covert list of words to set to get unique words \n",
    "\n",
    "unique_words = set(words)\n",
    "print (unique_words)\n",
    "print(len(unique_words))\n",
    "\n"
   ]
  },
  {
   "cell_type": "code",
   "execution_count": null,
   "id": "d7614232",
   "metadata": {},
   "outputs": [],
   "source": []
  },
  {
   "cell_type": "code",
   "execution_count": null,
   "id": "1d331f09",
   "metadata": {},
   "outputs": [],
   "source": []
  },
  {
   "cell_type": "code",
   "execution_count": null,
   "id": "73086b8f",
   "metadata": {},
   "outputs": [],
   "source": []
  },
  {
   "cell_type": "code",
   "execution_count": null,
   "id": "6c96995c",
   "metadata": {},
   "outputs": [],
   "source": []
  },
  {
   "cell_type": "code",
   "execution_count": null,
   "id": "62f80e61",
   "metadata": {},
   "outputs": [],
   "source": []
  },
  {
   "cell_type": "code",
   "execution_count": null,
   "id": "49a795f8",
   "metadata": {},
   "outputs": [],
   "source": []
  }
 ],
 "metadata": {
  "kernelspec": {
   "display_name": "Python 3 (ipykernel)",
   "language": "python",
   "name": "python3"
  },
  "language_info": {
   "codemirror_mode": {
    "name": "ipython",
    "version": 3
   },
   "file_extension": ".py",
   "mimetype": "text/x-python",
   "name": "python",
   "nbconvert_exporter": "python",
   "pygments_lexer": "ipython3",
   "version": "3.12.3"
  },
  "varInspector": {
   "cols": {
    "lenName": 16,
    "lenType": 16,
    "lenVar": 40
   },
   "kernels_config": {
    "python": {
     "delete_cmd_postfix": "",
     "delete_cmd_prefix": "del ",
     "library": "var_list.py",
     "varRefreshCmd": "print(var_dic_list())"
    },
    "r": {
     "delete_cmd_postfix": ") ",
     "delete_cmd_prefix": "rm(",
     "library": "var_list.r",
     "varRefreshCmd": "cat(var_dic_list()) "
    }
   },
   "types_to_exclude": [
    "module",
    "function",
    "builtin_function_or_method",
    "instance",
    "_Feature"
   ],
   "window_display": false
  }
 },
 "nbformat": 4,
 "nbformat_minor": 5
}
