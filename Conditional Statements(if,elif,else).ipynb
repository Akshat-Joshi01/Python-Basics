{
 "cells": [
  {
   "cell_type": "markdown",
   "id": "cb4d3fab-41c4-40f1-af60-c43578aa7f0d",
   "metadata": {},
   "source": [
    "### Conditional Statements (if,elif,else)\n",
    "\n",
    "Outline :\n",
    "    1. Introduction to conditional statements \n",
    "    2. if Statment\n",
    "    3. else \n",
    "    4. elif\n",
    "    5. nested Conditional Statements\n",
    "    6. Practical Examples\n",
    "    7. Common Errors and Best Practices\n",
    "    "
   ]
  },
  {
   "cell_type": "code",
   "execution_count": 7,
   "id": "c0f37730-103f-441d-a692-99b3a875de5c",
   "metadata": {},
   "outputs": [
    {
     "name": "stdout",
     "output_type": "stream",
     "text": [
      "your are allowd to vote in the elections\n"
     ]
    }
   ],
   "source": [
    "# if statement \n",
    "age = 20 \n",
    "\n",
    "if age >=18:\n",
    "    print (\"your are allowd to vote in the elections\")"
   ]
  },
  {
   "cell_type": "code",
   "execution_count": 9,
   "id": "7fcb5262-dc81-4716-b655-08a8ab2a9786",
   "metadata": {},
   "outputs": [
    {
     "name": "stdout",
     "output_type": "stream",
     "text": [
      "You are miner\n"
     ]
    }
   ],
   "source": [
    "## else \n",
    "## the else sstatement executes a block of code if the condition in the statement is false.\n",
    "\n",
    "age = 16 \n",
    "\n",
    "if age >= 18:\n",
    "    print (\"your are eligible for voting\")\n",
    "else : \n",
    "    print (\"You are miner\")\n"
   ]
  },
  {
   "cell_type": "code",
   "execution_count": 11,
   "id": "8c45bd90-5161-49a6-a958-83ab6d9368de",
   "metadata": {},
   "outputs": [
    {
     "name": "stdout",
     "output_type": "stream",
     "text": [
      "You are adult \n"
     ]
    }
   ],
   "source": [
    "## elif \n",
    "## The elif statment allows you to check multipal condition. Its srands for \"else if\"\n",
    "\n",
    "age = 17 \n",
    "if age < 13 :\n",
    "    print (\"Your are a child\")\n",
    "elif age < 18:\n",
    "    Print (\"You are a teenager\")\n",
    "else :\n",
    "    print(\"You are adult \")\n"
   ]
  },
  {
   "cell_type": "code",
   "execution_count": 19,
   "id": "7c6e5f90-6e5d-4efd-9d7c-48765f340cdf",
   "metadata": {},
   "outputs": [
    {
     "name": "stdin",
     "output_type": "stream",
     "text": [
      "Enter the number  -11\n"
     ]
    },
    {
     "name": "stdout",
     "output_type": "stream",
     "text": [
      "The number is zero or negative \n"
     ]
    }
   ],
   "source": [
    "## Nested conditional statment \n",
    "# You can place one or more if , elif or else statment insid another if ,elif or else statment to create nested condition statements\n",
    "\n",
    "## number even , odd , negative\n",
    "\n",
    "num = int(input(\"Enter the number \"))\n",
    "\n",
    "if num> 0 :\n",
    "    print(\"The number us positive\")\n",
    "    if num%2==0:\n",
    "        print(\"The number is even\")\n",
    "    else:\n",
    "        print (\"The number is odd\")\n",
    "\n",
    "else :\n",
    "    print(\"The number is zero or negative \")\n",
    "\n"
   ]
  },
  {
   "cell_type": "code",
   "execution_count": 26,
   "id": "822743b3-40c5-4f2c-98f0-dc0d183f684c",
   "metadata": {},
   "outputs": [
    {
     "name": "stdin",
     "output_type": "stream",
     "text": [
      "Enter a year:  2064\n"
     ]
    },
    {
     "name": "stdout",
     "output_type": "stream",
     "text": [
      "2064 is a leap year.\n"
     ]
    }
   ],
   "source": [
    "## fist practical example \n",
    "## Determine if a year is a leap year using nested condition statment\n",
    "\n",
    "# Taking user input\n",
    "year = int(input(\"Enter a year: \"))\n",
    "\n",
    "# Checking if the year is a leap year\n",
    "if year % 4 == 0:\n",
    "    if year % 100 == 0:\n",
    "        if year % 400 == 0:\n",
    "            print(f\"{year} is a leap year.\")\n",
    "        else:\n",
    "            print(f\"{year} is not a leap year.\")\n",
    "    else:\n",
    "        print(f\"{year} is a leap year.\")\n",
    "else:\n",
    "    print(f\"{year} is not a leap year.\")\n",
    "\n"
   ]
  },
  {
   "cell_type": "code",
   "execution_count": 38,
   "id": "5e0c48b6-356a-4806-b1ef-ec2f3187169e",
   "metadata": {},
   "outputs": [
    {
     "name": "stdin",
     "output_type": "stream",
     "text": [
      "Enter first number:  55\n",
      "Enter second number:  55\n"
     ]
    },
    {
     "name": "stdout",
     "output_type": "stream",
     "text": [
      "110.0 result of addition \n"
     ]
    },
    {
     "name": "stdin",
     "output_type": "stream",
     "text": [
      "Enter first number:  5\n",
      "Enter an operator (+, -, *, /):  *\n",
      "Enter second number:  5\n"
     ]
    },
    {
     "name": "stdout",
     "output_type": "stream",
     "text": [
      "Result: 25.0\n"
     ]
    }
   ],
   "source": [
    "### Assingment \n",
    "## simple calculator\n",
    "# conditions breakdown \n",
    "#\"\"\" take input , perform diffrent opprations and use if else nested statments  \"\"\"\n",
    "\n",
    "#num1 = float(input(\"Enter first number: \"))  \n",
    "#num2 = float(input(\"Enter second number: \"))\n",
    "\n",
    "# Performing arithmetic operations write by me \n",
    "\n",
    "#addition = num1 + num2\n",
    "#subtraction = num1 - num2  \n",
    "#multiplication = num1 * num2\n",
    "#division = num1 / num2\n",
    "#floor_division = num1 // num2\n",
    "#modulus = num1 % num2\n",
    "#exponentiation = num1 ** num2\n",
    "\n",
    "#if addition :\n",
    "#    print(f\"{addition} result of addition \")\n",
    "#    if subtraction :\n",
    "#        print(f\"{subtraction} result of subtraction\")\n",
    "#        if multiplication:\n",
    "#            print (f\"{multiplication} result of multiplication \")\n",
    "#            if division:\n",
    "#                print (f\"{division} result of division\")\n",
    "#                if floor_division:\n",
    "#                    print(f\"{floor_division} result of floor_division\")\n",
    "#                    if modulus:\n",
    "#                        print(f\"{modulus} result of modulus\")\n",
    "#                        if exponentiation:\n",
    "#                            print(f\"{exponentiation} result of exponentiation\")\n",
    "\n",
    "###########################################################################################\n",
    "# Taking inputs from the user wreten by sir \n",
    "num1 = float(input(\"Enter first number: \"))\n",
    "op = input(\"Enter an operator (+, -, *, /): \")\n",
    "num2 = float(input(\"Enter second number: \"))\n",
    "\n",
    "# Performing the operation based on the user's input\n",
    "if op == '+':\n",
    "    print(f\"Result: {num1 + num2}\")\n",
    "elif op == '-':\n",
    "    print(f\"Result: {num1 - num2}\")\n",
    "elif op == '*':\n",
    "    print(f\"Result: {num1 * num2}\")\n",
    "elif op == '/':\n",
    "    if num2 != 0:\n",
    "        print(f\"Result: {num1 / num2}\")\n",
    "    else:\n",
    "        print(\"Error: Division by zero is not allowed.\")\n",
    "else:\n",
    "    print(\"Invalid operator.\")\n"
   ]
  },
  {
   "cell_type": "code",
   "execution_count": null,
   "id": "0c6c82ce-fed6-4d7d-b291-b6d451b66ea9",
   "metadata": {},
   "outputs": [],
   "source": [
    "### determine the tickit price based on age and whether the person is a student.\n",
    "#Ticket princing based on age and student status \n",
    "\n",
    "# Take user input \n",
    "age = int(input(\"Enter your age: \"))\n",
    "is_student = input(\"Are you a student? (yes/no): \").lower()\n",
    "\n",
    "# Determine ticket price \n",
    "if age < 5:\n",
    "    price = \"Free\"\n",
    "elif age <= 12:\n",
    "    price = \"$10\"\n",
    "elif age <= 17:\n",
    "    if is_student == \"yes\":\n",
    "        price = \"$12\"\n",
    "    else:\n",
    "        price = \"$15\"\n",
    "elif age <= 64:\n",
    "    if is_student == \"yes\":\n",
    "        price = \"$18\"\n",
    "    else:\n",
    "        price = \"$25\"\n",
    "else:\n",
    "    price = \"$20\"\n",
    "\n",
    "# Display the ticket price\n",
    "print(\"Ticket Price:\", price)\n"
   ]
  },
  {
   "cell_type": "code",
   "execution_count": null,
   "id": "253f4071-e521-4f38-98f8-49bdc84658b9",
   "metadata": {},
   "outputs": [],
   "source": []
  },
  {
   "cell_type": "code",
   "execution_count": null,
   "id": "8d33d6c8-b38a-403b-b511-0ca04afacd6c",
   "metadata": {},
   "outputs": [],
   "source": []
  },
  {
   "cell_type": "code",
   "execution_count": null,
   "id": "c1359049-431b-4bac-b95f-3e0e7cdb7dd1",
   "metadata": {},
   "outputs": [],
   "source": []
  },
  {
   "cell_type": "code",
   "execution_count": null,
   "id": "4c56a51e-f064-430d-862d-81f3595e8b81",
   "metadata": {},
   "outputs": [],
   "source": []
  }
 ],
 "metadata": {
  "kernelspec": {
   "display_name": "Python 3 (ipykernel)",
   "language": "python",
   "name": "python3"
  },
  "language_info": {
   "codemirror_mode": {
    "name": "ipython",
    "version": 3
   },
   "file_extension": ".py",
   "mimetype": "text/x-python",
   "name": "python",
   "nbconvert_exporter": "python",
   "pygments_lexer": "ipython3",
   "version": "3.12.4"
  }
 },
 "nbformat": 4,
 "nbformat_minor": 5
}
