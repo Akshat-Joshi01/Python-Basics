{
 "cells": [
  {
   "cell_type": "markdown",
   "id": "ed62fa28",
   "metadata": {},
   "source": [
    "####***Lists***\n",
    "Introduction to Lists\n",
    "\n",
    ".Lists are ordered, mutable collections of items.\n",
    ".They can contain items of different data types.\n",
    "\n",
    "Outline :\n",
    "1) Introduction to lists\n",
    "2) Creating lists\n",
    "3) Accessing list Elements\n",
    "4) Modifying list Elements\n",
    "5) List methods\n",
    "6) slicing List\n",
    "7) Iterating over list \n",
    "8) List comprehensions \n",
    "9) Nested Lists\n",
    "10) Practical Examples and Common Errors "
   ]
  },
  {
   "cell_type": "code",
   "execution_count": 2,
   "id": "1cdda7d8",
   "metadata": {},
   "outputs": [
    {
     "name": "stdout",
     "output_type": "stream",
     "text": [
      "<class 'list'>\n"
     ]
    }
   ],
   "source": [
    "list=[]\n",
    "print(type(list))"
   ]
  },
  {
   "cell_type": "code",
   "execution_count": 1,
   "id": "f233960b",
   "metadata": {},
   "outputs": [
    {
     "name": "stdout",
     "output_type": "stream",
     "text": [
      "['Krish', 'Akshat', 1, 2, 5]\n"
     ]
    }
   ],
   "source": [
    "name=[\"Akshat\",\"Krish\",1,2,5]\n",
    "print(name)"
   ]
  },
  {
   "cell_type": "code",
   "execution_count": 4,
   "id": "637e9df7",
   "metadata": {},
   "outputs": [
    {
     "name": "stdout",
     "output_type": "stream",
     "text": [
      "<class 'list'>\n"
     ]
    }
   ],
   "source": [
    "mixed_list=[1,\"Hell\",3.14,True]\n",
    "print(type(mixed_list))"
   ]
  },
  {
   "cell_type": "code",
   "execution_count": 9,
   "id": "10c44b5a",
   "metadata": {},
   "outputs": [
    {
     "name": "stdout",
     "output_type": "stream",
     "text": [
      "Banana\n",
      "Grapes\n",
      "['Apple', 'Banana', 'Mango', 'Orange', 'Grapes']\n",
      "['Apple', 'Banana', 'Mango']\n",
      "['Apple', 'Mango', 'Grapes']\n"
     ]
    }
   ],
   "source": [
    "### accessing list Elements \n",
    "\n",
    "fruits = [\"Apple\", \"Banana\", \"Mango\", \"Orange\", \"Grapes\"]\n",
    "\n",
    "print(fruits[1])\n",
    "print(fruits[-1])\n",
    "print(fruits[0:])\n",
    "print(fruits[0:3]) # it gives range of elements\n",
    "# giving specific selected elements from list \n",
    "selected_fruits = [fruits[i] for i in [0,2,4]]\n",
    "print(selected_fruits) # Output: ['Apple', 'Mango', 'Grapes']\n",
    "\n",
    "from operator import intemgetter \n",
    "select_fruits = itemgetter(0,2,4)(fruits)\n",
    "print(selected_fruits) # output ['Apple', 'Mango', 'Grapes']\n"
   ]
  },
  {
   "cell_type": "code",
   "execution_count": 10,
   "id": "a3a3b1f0",
   "metadata": {},
   "outputs": [
    {
     "name": "stdout",
     "output_type": "stream",
     "text": [
      "['Apple', 'watermelon', 'Mango', 'Orange', 'Grapes']\n"
     ]
    }
   ],
   "source": [
    "# modefing the list elements \n",
    "fruits[1]=\"watermelon\"\n",
    "print(fruits)"
   ]
  },
  {
   "cell_type": "code",
   "execution_count": 11,
   "id": "d25b41a1",
   "metadata": {},
   "outputs": [
    {
     "name": "stdout",
     "output_type": "stream",
     "text": [
      "['Apple', 'watermelon', 'Mango', 'Orange', 'Grapes', 'orange']\n"
     ]
    }
   ],
   "source": [
    "## list Method's \n",
    "# append - to insert a element at the last of the list \n",
    "fruits.append (\"orange\") ## Add an item to the end \n",
    "print(fruits)\n"
   ]
  },
  {
   "cell_type": "code",
   "execution_count": 12,
   "id": "6a8c37f0",
   "metadata": {},
   "outputs": [
    {
     "name": "stdout",
     "output_type": "stream",
     "text": [
      "['Apple', 'Banana', 'watermelon', 'Mango', 'Orange', 'Grapes', 'orange']\n"
     ]
    }
   ],
   "source": [
    "#insert - using insert we can insert a element on a specific location or an index number. \n",
    "fruits.insert (1,\"Banana\") ## Add an item to the end \n",
    "print(fruits)\n"
   ]
  },
  {
   "cell_type": "code",
   "execution_count": null,
   "id": "f2dc0703",
   "metadata": {},
   "outputs": [],
   "source": [
    "# remove - it is used to remove the element from the list \n",
    "fruits.remove"
   ]
  },
  {
   "cell_type": "code",
   "execution_count": 15,
   "id": "0eb5044d",
   "metadata": {},
   "outputs": [
    {
     "name": "stdout",
     "output_type": "stream",
     "text": [
      "Orange\n",
      "['Apple', 'Banana', 'watermelon', 'Mango']\n"
     ]
    }
   ],
   "source": [
    "# remove & returnd the last element\n",
    "popped_fruits = fruits.pop()\n",
    "print(popped_fruits)\n",
    "print(fruits)"
   ]
  },
  {
   "cell_type": "code",
   "execution_count": 16,
   "id": "d09cb237",
   "metadata": {},
   "outputs": [
    {
     "name": "stdout",
     "output_type": "stream",
     "text": [
      "2\n"
     ]
    }
   ],
   "source": [
    "# to have an index of an element\n",
    "index=fruits.index(\"watermelon\")\n",
    "print(index)"
   ]
  },
  {
   "cell_type": "code",
   "execution_count": 17,
   "id": "e16a0b53",
   "metadata": {},
   "outputs": [
    {
     "name": "stdout",
     "output_type": "stream",
     "text": [
      "1\n"
     ]
    }
   ],
   "source": [
    "# count is us to count number of similar elements in the list \n",
    "fruits.insert(2,\"Cherry\")\n",
    "print(fruits.count(\"Cherry\"))"
   ]
  },
  {
   "cell_type": "code",
   "execution_count": null,
   "id": "f2a95f17",
   "metadata": {},
   "outputs": [],
   "source": [
    "fruits.sort()##  this will sort the list in assending order. "
   ]
  },
  {
   "cell_type": "code",
   "execution_count": null,
   "id": "8ed320fb",
   "metadata": {},
   "outputs": [],
   "source": [
    "fruits.reverse()## Reverse the list."
   ]
  },
  {
   "cell_type": "code",
   "execution_count": null,
   "id": "a0287b8f",
   "metadata": {},
   "outputs": [],
   "source": [
    "fruits.clear()## this will remove all the itams from the list "
   ]
  },
  {
   "cell_type": "code",
   "execution_count": 18,
   "id": "0a9fc552",
   "metadata": {},
   "outputs": [
    {
     "name": "stdout",
     "output_type": "stream",
     "text": [
      "[3, 4, 5]\n",
      "[1, 2, 3, 4, 5]\n",
      "[6, 7, 8, 9, 10]\n",
      "[1, 3, 5, 7, 9]\n",
      "[10, 9, 8, 7, 6, 5, 4, 3, 2, 1]\n"
     ]
    }
   ],
   "source": [
    "## slicing list\n",
    "n= [1,2,3,4,5,6,7,8,9,10]\n",
    "print(n[2:5])\n",
    "print(n[:5])\n",
    "print(n[5:])\n",
    "print(n[::2])\n",
    "print(n[::-1])\n"
   ]
  },
  {
   "cell_type": "code",
   "execution_count": 20,
   "id": "e45360f0",
   "metadata": {},
   "outputs": [
    {
     "name": "stdout",
     "output_type": "stream",
     "text": [
      "1\n",
      "2\n",
      "3\n",
      "4\n",
      "5\n",
      "6\n",
      "7\n",
      "8\n",
      "9\n",
      "10\n"
     ]
    }
   ],
   "source": [
    "## Iterating over list\n",
    "\n",
    "for number in n:\n",
    "    print(number)"
   ]
  },
  {
   "cell_type": "code",
   "execution_count": 21,
   "id": "cfec464f",
   "metadata": {},
   "outputs": [
    {
     "name": "stdout",
     "output_type": "stream",
     "text": [
      "0 1\n",
      "1 2\n",
      "2 3\n",
      "3 4\n",
      "4 5\n",
      "5 6\n",
      "6 7\n",
      "7 8\n",
      "8 9\n",
      "9 10\n"
     ]
    }
   ],
   "source": [
    "## Iterating with index \n",
    "for index,number in enumerate(n):\n",
    "    print(index,number)"
   ]
  },
  {
   "cell_type": "code",
   "execution_count": 23,
   "id": "19bc2def",
   "metadata": {},
   "outputs": [
    {
     "name": "stdout",
     "output_type": "stream",
     "text": [
      "[0, 1, 4, 9, 16, 25, 36, 49, 64, 81]\n"
     ]
    },
    {
     "data": {
      "text/plain": [
       "[0, 1, 4, 9, 16, 25, 36, 49, 64, 81]"
      ]
     },
     "execution_count": 23,
     "metadata": {},
     "output_type": "execute_result"
    }
   ],
   "source": [
    "## List comprehension\n",
    "list=[]\n",
    "for x in range (10):\n",
    "    list.append(x**2)\n",
    "print(list)\n",
    "\n",
    "# alternative method\n",
    "[x**2 for x in range(10)]"
   ]
  },
  {
   "cell_type": "markdown",
   "id": "b9744ec2",
   "metadata": {},
   "source": [
    "## List Comprehension\n",
    "\n",
    "Basic syntax :- [Expression for item in iterable]\n",
    "with conditional logic [expression for item in iterable if condition]\n",
    "Nested list Comprehension [expression for item in iterable1 for item2 in iterables2]"
   ]
  },
  {
   "cell_type": "code",
   "execution_count": 26,
   "id": "97662242",
   "metadata": {},
   "outputs": [
    {
     "name": "stdout",
     "output_type": "stream",
     "text": [
      "[0, 1, 4, 9, 16, 25, 36, 49, 64, 81]\n"
     ]
    }
   ],
   "source": [
    "### Basic list comphrension \n",
    "\n",
    "sqaure = [num**2 for num in range(10)]\n",
    "print(sqaure)"
   ]
  },
  {
   "cell_type": "code",
   "execution_count": 30,
   "id": "e6e9a704",
   "metadata": {},
   "outputs": [
    {
     "name": "stdout",
     "output_type": "stream",
     "text": [
      "[0, 2, 4, 6, 8]\n"
     ]
    }
   ],
   "source": [
    "# list Comprehension with condition\n",
    "list=[]\n",
    "for i in range (10):\n",
    "    if i%2==0:\n",
    "        list.append(i)\n",
    "        \n",
    "print(list)"
   ]
  },
  {
   "cell_type": "code",
   "execution_count": 32,
   "id": "8189c86c",
   "metadata": {},
   "outputs": [
    {
     "name": "stdout",
     "output_type": "stream",
     "text": [
      "[0, 2, 4, 6, 8]\n"
     ]
    }
   ],
   "source": [
    "even_numbers=[num for num in range(10) if num%2==0]\n",
    "print(even_numbers)"
   ]
  },
  {
   "cell_type": "code",
   "execution_count": 34,
   "id": "1506a652",
   "metadata": {},
   "outputs": [
    {
     "name": "stdout",
     "output_type": "stream",
     "text": [
      "[[1, 'a'], [1, 'b'], [1, 'c'], [1, 'd'], [2, 'a'], [2, 'b'], [2, 'c'], [2, 'd'], [3, 'a'], [3, 'b'], [3, 'c'], [3, 'd'], [4, 'a'], [4, 'b'], [4, 'c'], [4, 'd']]\n"
     ]
    }
   ],
   "source": [
    "list1 = [1, 2, 3, 4]\n",
    "list2 = [\"a\", \"b\", \"c\", \"d\"]\n",
    "\n",
    "pair = [[i, j] for i in list1 for j in list2]\n",
    "print(pair)\n"
   ]
  },
  {
   "cell_type": "code",
   "execution_count": 35,
   "id": "a440943a",
   "metadata": {},
   "outputs": [
    {
     "name": "stdout",
     "output_type": "stream",
     "text": [
      "[5, 5, 6, 4, 13]\n"
     ]
    }
   ],
   "source": [
    "## List Comprehension with function calls\n",
    "words = [\"Hello\",\"World\",\"Python\",\"List\",\"Comprehension\"]\n",
    "lengths = [len(word) for word in words]\n",
    "print(lengths) # output:[5,5,6,4,13]\n"
   ]
  },
  {
   "cell_type": "markdown",
   "id": "bddef046",
   "metadata": {},
   "source": [
    "## Conslusion\n",
    "lsit comphehension are a powerful and concise way to create lists in python. Understanding the syntax of list comprehensions will help you write cleaner and more efficient Python code.\n"
   ]
  },
  {
   "cell_type": "code",
   "execution_count": null,
   "id": "ab78a012",
   "metadata": {},
   "outputs": [],
   "source": []
  },
  {
   "cell_type": "code",
   "execution_count": null,
   "id": "09e38c49",
   "metadata": {},
   "outputs": [],
   "source": []
  },
  {
   "cell_type": "code",
   "execution_count": null,
   "id": "87de202d",
   "metadata": {},
   "outputs": [],
   "source": []
  },
  {
   "cell_type": "code",
   "execution_count": null,
   "id": "d474161d",
   "metadata": {},
   "outputs": [],
   "source": []
  },
  {
   "cell_type": "code",
   "execution_count": null,
   "id": "9b717184",
   "metadata": {},
   "outputs": [],
   "source": []
  },
  {
   "cell_type": "code",
   "execution_count": null,
   "id": "eb075ab6",
   "metadata": {},
   "outputs": [],
   "source": []
  }
 ],
 "metadata": {
  "kernelspec": {
   "display_name": "Python 3 (ipykernel)",
   "language": "python",
   "name": "python3"
  },
  "language_info": {
   "codemirror_mode": {
    "name": "ipython",
    "version": 3
   },
   "file_extension": ".py",
   "mimetype": "text/x-python",
   "name": "python",
   "nbconvert_exporter": "python",
   "pygments_lexer": "ipython3",
   "version": "3.12.3"
  },
  "varInspector": {
   "cols": {
    "lenName": 16,
    "lenType": 16,
    "lenVar": 40
   },
   "kernels_config": {
    "python": {
     "delete_cmd_postfix": "",
     "delete_cmd_prefix": "del ",
     "library": "var_list.py",
     "varRefreshCmd": "print(var_dic_list())"
    },
    "r": {
     "delete_cmd_postfix": ") ",
     "delete_cmd_prefix": "rm(",
     "library": "var_list.r",
     "varRefreshCmd": "cat(var_dic_list()) "
    }
   },
   "types_to_exclude": [
    "module",
    "function",
    "builtin_function_or_method",
    "instance",
    "_Feature"
   ],
   "window_display": false
  }
 },
 "nbformat": 4,
 "nbformat_minor": 5
}
