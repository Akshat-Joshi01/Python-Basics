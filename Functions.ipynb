{
 "cells": [
  {
   "cell_type": "markdown",
   "id": "c3e256d0",
   "metadata": {},
   "source": [
    "# Functions in python \n",
    "\n",
    "outline:\n",
    "    1. Introduction to functions\n",
    "    2. Defining functions \n",
    "    3. Calling Functions \n",
    "    4. Functions parameters\n",
    "    5. Default parameters\n",
    "    6. Variable-lenght Arguments\n",
    "    7. Return statement\n",
    "\n",
    "## Introduction to Functions\n",
    "### Defination:\n",
    "### A function is a blocj of code that performs a soecific task.Functions help in orhanizing code,reusing code,reusing code, and improving readabiility."
   ]
  },
  {
   "cell_type": "code",
   "execution_count": null,
   "id": "ceedde9c",
   "metadata": {},
   "outputs": [],
   "source": [
    "# SYNTEX\n",
    "def Functions_name (parameters):\n",
    "    \"\"\"Docstring \"\"\"\n",
    "    # Function body \n",
    "    return expression"
   ]
  },
  {
   "cell_type": "code",
   "execution_count": 6,
   "id": "d96b59d3",
   "metadata": {},
   "outputs": [
    {
     "name": "stdout",
     "output_type": "stream",
     "text": [
      "What is your number: 55\n",
      "The number is odd\n",
      "The number is odd\n"
     ]
    }
   ],
   "source": [
    "# why functions # Taking input and checking if it's even or odd\n",
    "num = int(input(\"What is your number: \"))  # Convert input to an integer\n",
    "if num % 2 == 0:\n",
    "    print(\"The number is even\")\n",
    "else: \n",
    "    print(\"The number is odd\")\n"
   ]
  },
  {
   "cell_type": "code",
   "execution_count": null,
   "id": "5b28fda1",
   "metadata": {},
   "outputs": [],
   "source": [
    "## Creating a function to check even or odd\n",
    "def even_or_odd(num):\n",
    "    \"\"\"This function checks if a number is even or odd\"\"\"\n",
    "    if num % 2 == 0:\n",
    "        print(\"The number is even\")\n",
    "    else:\n",
    "        print(\"The number is odd\")\n",
    "\n",
    "# call this function\n",
    "even_or_odd(num)\n"
   ]
  },
  {
   "cell_type": "code",
   "execution_count": null,
   "id": "d6605c3c",
   "metadata": {},
   "outputs": [],
   "source": [
    "## functions with multipal parameter\n",
    "\n",
    "def add (a,b):\n",
    "    return a+b\n",
    "\n",
    "result = add(2,4)\n",
    "print(result)\n"
   ]
  },
  {
   "cell_type": "code",
   "execution_count": 13,
   "id": "f149e83b",
   "metadata": {},
   "outputs": [
    {
     "name": "stdout",
     "output_type": "stream",
     "text": [
      "hello Akshat Wecome to paradise\n"
     ]
    }
   ],
   "source": [
    "## Default parameters \n",
    "\n",
    "def greet(name=\"Guest\"):\n",
    "    print(f\"hello {name} Wecome to paradise\")\n",
    "\n",
    "greet(\"Akshat\")"
   ]
  },
  {
   "cell_type": "code",
   "execution_count": null,
   "id": "0417dc9c",
   "metadata": {},
   "outputs": [],
   "source": [
    "### Vareable lenth arguments \n",
    "### positionsal and keywords arguments\n",
    "\n",
    "def print_numbers(*Akshat):# after * we can take any word\n",
    "    for number in Akshat:\n",
    "        print(number)\n",
    "\n",
    "## Calling the function\n",
    "\n",
    "print_numbers(1,2,3,4,5,6,6,7,8,\"Akshat\")\n",
    "\n",
    "# Using *args is mor conveniant  \n",
    "def print_numbers(*Akshat):\n",
    "    for number in Akshat:\n",
    "        print(number)\n",
    "print_numbers(1,2,3,4,5,6,6,7,8,\"Akshat\")\n"
   ]
  },
  {
   "cell_type": "code",
   "execution_count": 15,
   "id": "3beec459",
   "metadata": {
    "scrolled": true
   },
   "outputs": [
    {
     "name": "stdout",
     "output_type": "stream",
     "text": [
      "name: Akshat\n",
      "age: 32\n",
      "country: India\n"
     ]
    }
   ],
   "source": [
    "### Key word argument \n",
    "## all the arguments will be in key value paires \n",
    "def print_details(**kwargs):\n",
    "    for key, value in kwargs.items():\n",
    "        print(f\"{key}: {value}\")\n",
    "        \n",
    "print_details(name=\"Akshat\", age=\"32\", country=\"India\")\n"
   ]
  },
  {
   "cell_type": "code",
   "execution_count": 17,
   "id": "83917424",
   "metadata": {},
   "outputs": [
    {
     "name": "stdout",
     "output_type": "stream",
     "text": [
      "Positional argument: 1\n",
      "Positional argument: 2\n",
      "Positional argument: 3\n",
      "Positional argument: 4\n",
      "Positional argument: Akshat\n",
      "name: Akshat\n",
      "age: 32\n",
      "country: India\n"
     ]
    }
   ],
   "source": [
    "def print_details(*args, **kwargs):\n",
    "    # Loop through positional arguments\n",
    "    for val in args:\n",
    "        print(f\"Positional argument: {val}\")\n",
    "    \n",
    "    # Loop through keyword arguments\n",
    "    for key, value in kwargs.items():\n",
    "        print(f\"{key}: {value}\")\n",
    "    \n",
    "# Calling the function\n",
    "print_details(1, 2, 3, 4, \"Akshat\", name=\"Akshat\", age=\"32\", country=\"India\")\n"
   ]
  },
  {
   "cell_type": "code",
   "execution_count": 2,
   "id": "db469e79",
   "metadata": {},
   "outputs": [
    {
     "data": {
      "text/plain": [
       "(6, 2)"
      ]
     },
     "execution_count": 2,
     "metadata": {},
     "output_type": "execute_result"
    }
   ],
   "source": [
    "## Return statement \n",
    "\n",
    "def multiply (a,b):\n",
    "    return a*b\n",
    "multiply(2,3)   \n",
    "\n",
    "# Functions can return multipal values also \n",
    "\n",
    "def multiply (a,b):\n",
    "    return a*b,a\n",
    "multiply(2,3)   \n"
   ]
  },
  {
   "cell_type": "markdown",
   "id": "cf2c32f7",
   "metadata": {},
   "source": [
    "# Functions Examples "
   ]
  },
  {
   "cell_type": "markdown",
   "id": "3521f59d",
   "metadata": {},
   "source": [
    "### Example 1: Temperature Conversion"
   ]
  },
  {
   "cell_type": "code",
   "execution_count": 6,
   "id": "68b1e958",
   "metadata": {},
   "outputs": [
    {
     "name": "stdout",
     "output_type": "stream",
     "text": [
      "131.0\n",
      "25.0\n"
     ]
    }
   ],
   "source": [
    " def convert_temprature (temp,unit):\n",
    "        \"\"\"This function converts temperature between celsius and fahrenheit\"\"\"\n",
    "        \n",
    "        if unit==\"C\":\n",
    "            return temp *9/5 + 32 # Celsius to fahrenheit\n",
    "        elif unit == \"F\":\n",
    "            return (temp -32)*5/9 ## Fahrenheit to celsius \n",
    "        else: \n",
    "            return NONE\n",
    "print (convert_temprature (55,\"C\"))\n",
    "print (convert_temprature (77,\"F\"))"
   ]
  },
  {
   "cell_type": "markdown",
   "id": "332d2ddd",
   "metadata": {},
   "source": [
    "### Example 2: Password strength checker"
   ]
  },
  {
   "cell_type": "code",
   "execution_count": 9,
   "id": "f82c82be",
   "metadata": {},
   "outputs": [
    {
     "name": "stdout",
     "output_type": "stream",
     "text": [
      "Please enter tyour password: Str0ngPwd!\n",
      "'Str0ngPwd!' is a strong password \n"
     ]
    }
   ],
   "source": [
    "def is_strong_password (password):\n",
    "    \"\"\"This function checks if the passwoed is strong or not\"\"\"\n",
    "    if len(password)<8:\n",
    "        return False\n",
    "    if not any(char.isdigit() for char in password):\n",
    "        return False\n",
    "    if not any (char.islower() for char in password ):\n",
    "        return False\n",
    "    if not any (char.isupper() for char in password):\n",
    "        return False\n",
    "    if not any (char in \"!@#$%^&*()_+\" for char in password):\n",
    "        return False\n",
    "    return True\n",
    "# Calling function \n",
    "password = input(\"Please enter tyour password: \")\n",
    "\n",
    "# Cheking password strength\n",
    "if is_strong_password(password):\n",
    "    print(f\"'{password}' is a strong password \")\n",
    "else:\n",
    "    print(f\"'{password}' is not a strong password. Please  try again.\")"
   ]
  },
  {
   "cell_type": "markdown",
   "id": "a6740926",
   "metadata": {},
   "source": [
    "### Example 3: Calculate the total cost of Items in a shshopping cart"
   ]
  },
  {
   "cell_type": "code",
   "execution_count": 2,
   "id": "c223016d",
   "metadata": {},
   "outputs": [
    {
     "name": "stdout",
     "output_type": "stream",
     "text": [
      "5.8999999999999995\n"
     ]
    }
   ],
   "source": [
    "def calculate_total_cost(cart):\n",
    "    total_cost = 0\n",
    "    for item in cart:\n",
    "        total_cost+=item['Price']* item['qunantity']\n",
    "    return total_cost\n",
    "\n",
    "## Example cart data \n",
    "\n",
    "cart=[\n",
    "    {'name':'Apple' , 'Price':0.5 , 'qunantity':4},\n",
    "    {'name': 'Banana', 'Price':0.3 , 'qunantity':6},\n",
    "    {'name':'Orange','Price':0.7,'qunantity':3}\n",
    "]\n",
    "## Calling the function \n",
    "total_cost = calculate_total_cost(cart)\n",
    "print (total_cost)\n",
    "    \n",
    "    "
   ]
  },
  {
   "cell_type": "markdown",
   "id": "06d28053",
   "metadata": {},
   "source": [
    "### Example 4: Check if a string is palindrome \n",
    "WHAT IS palindrome ?\n",
    "-> A palindrome is a word, phrase, number, or sequence of characters that reads the same forward and backward (ignoring spaces, punctuation, and capitalization). "
   ]
  },
  {
   "cell_type": "code",
   "execution_count": 4,
   "id": "af5df469",
   "metadata": {},
   "outputs": [
    {
     "name": "stdout",
     "output_type": "stream",
     "text": [
      "True\n",
      "False\n"
     ]
    }
   ],
   "source": [
    "def is_palindrome(s):\n",
    "    s=s.lower().replace(\" \",\"\")\n",
    "    return s==s [:: -1]\n",
    "    \n",
    "print(is_palindrome(\"A man a plan a canal Panama \"))\n",
    "print(is_palindrome(\"Hello\"))"
   ]
  },
  {
   "cell_type": "markdown",
   "id": "de2d8fa4",
   "metadata": {},
   "source": [
    "### Example 5: Calculate the factorials of a number using recursion "
   ]
  },
  {
   "cell_type": "code",
   "execution_count": 8,
   "id": "ee4260d4",
   "metadata": {},
   "outputs": [
    {
     "name": "stdout",
     "output_type": "stream",
     "text": [
      "120\n"
     ]
    }
   ],
   "source": [
    "def factorial(n):\n",
    "    if n==0:\n",
    "        return 1\n",
    "    else:\n",
    "        return n * factorial(n-1)\n",
    "print(factorial(5))"
   ]
  },
  {
   "cell_type": "code",
   "execution_count": 10,
   "id": "fee5ce19",
   "metadata": {},
   "outputs": [
    {
     "name": "stdout",
     "output_type": "stream",
     "text": [
      "Enter a non-negative integer to calculate its factorial: 5\n",
      "The factorial of 5 is: 120\n"
     ]
    }
   ],
   "source": [
    "# taking user input for code \n",
    "def factorial(n):\n",
    "    \"\"\"Calculate factorial using recursion.\"\"\"\n",
    "    if n == 0:\n",
    "        return 1\n",
    "    else:\n",
    "        return n * factorial(n - 1)\n",
    "\n",
    "# Taking user input\n",
    "try:\n",
    "    number = int(input(\"Enter a non-negative integer to calculate its factorial: \"))\n",
    "    if number < 0:\n",
    "        print(\"Factorial is not defined for negative numbers.\")\n",
    "    else:\n",
    "        print(f\"The factorial of {number} is: {factorial(number)}\")\n",
    "except ValueError:\n",
    "    print(\"Invalid input! Please enter a valid integer.\")\n"
   ]
  },
  {
   "cell_type": "markdown",
   "id": "c1baf1f7",
   "metadata": {},
   "source": [
    "## Example 6 : A function to read a file and count the frequrncy of each word."
   ]
  },
  {
   "cell_type": "code",
   "execution_count": 13,
   "id": "861707b9",
   "metadata": {},
   "outputs": [
    {
     "name": "stdout",
     "output_type": "stream",
     "text": [
      "{'hello': 1, 'world': 1, 'how': 1, 'are': 1, 'you': 1, 'my': 1, 'name': 1, 'is': 1, 'akshat': 2}\n"
     ]
    }
   ],
   "source": [
    "def count_word_frequency(file_path):\n",
    "    \"\"\"Count the frequency of words in a file.\"\"\"\n",
    "    word_count = {}\n",
    "    with open(file_path, 'r') as file:\n",
    "        for line in file:\n",
    "            words = line.split()\n",
    "            for word in words:\n",
    "                # Normalize word: lowercase and strip punctuation\n",
    "                word = word.lower().strip('.,!?;:\"\\'')\n",
    "                word_count[word] = word_count.get(word, 0) + 1\n",
    "    return word_count\n",
    "\n",
    "# File path\n",
    "filepath = 'Sample.txt'\n",
    "\n",
    "# Call the function\n",
    "word_frequency = count_word_frequency(filepath)\n",
    "\n",
    "# Print the word frequencies\n",
    "print(word_frequency)\n"
   ]
  },
  {
   "cell_type": "markdown",
   "id": "399a079d",
   "metadata": {},
   "source": [
    "## Example 7: Validate Email Address"
   ]
  },
  {
   "cell_type": "code",
   "execution_count": 18,
   "id": "73957541",
   "metadata": {},
   "outputs": [
    {
     "name": "stdout",
     "output_type": "stream",
     "text": [
      "True\n",
      "False\n"
     ]
    }
   ],
   "source": [
    "import re\n",
    "\n",
    "def is_valid_email(email):\n",
    "    \"\"\"This function checks if the email is valid.\"\"\"\n",
    "    pattern = r'^[a-zA-Z0-9_.+-]+@[a-zA-Z0-9-]+\\.[a-zA-Z0-9-.]+$'\n",
    "    return re.match(pattern, email) is not None\n",
    "\n",
    "# Calling the function\n",
    "print(is_valid_email(\"test@example.com\"))  # Output: True\n",
    "print(is_valid_email(\"invalid-email\"))     # Output: False\n"
   ]
  },
  {
   "cell_type": "code",
   "execution_count": 17,
   "id": "24795d96",
   "metadata": {},
   "outputs": [
    {
     "name": "stdout",
     "output_type": "stream",
     "text": [
      "Enter an email to validate: akshat.joshi.1702@gmail.com\n",
      "'akshat.joshi.1702@gmail.com' is a valid email.\n"
     ]
    }
   ],
   "source": [
    "# creating an user defined email ganrator:-\n",
    "import re\n",
    "\n",
    "def is_valid_email(email):\n",
    "    \"\"\"This function checks if the email is valid.\"\"\"\n",
    "    pattern = r'^[a-zA-Z0-9_.+-]+@[a-zA-Z0-9-]+\\.[a-zA-Z0-9-.]+$'\n",
    "    return re.match(pattern, email) is not None\n",
    "\n",
    "# Taking user input for email validation\n",
    "email = input(\"Enter an email to validate: \")\n",
    "\n",
    "# Check and display whether the email is valid\n",
    "if is_valid_email(email):\n",
    "    print(f\"'{email}' is a valid email.\")\n",
    "else:\n",
    "    print(f\"'{email}' is not a valid email.\")\n"
   ]
  },
  {
   "cell_type": "markdown",
   "id": "c951763a",
   "metadata": {},
   "source": [
    "## Example by my self to create an Function which detects the Prime number "
   ]
  },
  {
   "cell_type": "code",
   "execution_count": 19,
   "id": "a1075db4",
   "metadata": {},
   "outputs": [
    {
     "name": "stdout",
     "output_type": "stream",
     "text": [
      "Enter a number to check if it is prime: 55\n",
      "55 is not a prime number.\n"
     ]
    }
   ],
   "source": [
    "def is_prime(num):\n",
    "    \"\"\"This function checks if a number is prime.\"\"\"\n",
    "    if num <= 1:\n",
    "        return False  # Numbers less than or equal to 1 are not prime\n",
    "    for i in range(2, int(num**0.5) + 1):  # Check divisors up to the square root of num\n",
    "        if num % i == 0:\n",
    "            return False  # Found a divisor, not prime\n",
    "    return True  # No divisors found, it is prime\n",
    "\n",
    "# Taking user input\n",
    "try:\n",
    "    number = int(input(\"Enter a number to check if it is prime: \"))\n",
    "    if is_prime(number):\n",
    "        print(f\"{number} is a prime number.\")\n",
    "    else:\n",
    "        print(f\"{number} is not a prime number.\")\n",
    "except ValueError:\n",
    "    print(\"Please enter a valid integer!\")\n"
   ]
  },
  {
   "cell_type": "markdown",
   "id": "f2ee897a",
   "metadata": {},
   "source": [
    "# Lamda functions :-What is a Lambda Function?\n",
    "#### A lambda function in Python is a small, anonymous function defined using the keyword lambda. Unlike regular functions defined with the def keyword, lambda functions can have only a single expression and are often used for short, simple operations."
   ]
  },
  {
   "cell_type": "code",
   "execution_count": null,
   "id": "682b4e75",
   "metadata": {},
   "outputs": [],
   "source": [
    "#SYNTAX\n",
    "lambda arguments: Expression\n"
   ]
  },
  {
   "cell_type": "code",
   "execution_count": 22,
   "id": "1e2ba9ec",
   "metadata": {},
   "outputs": [
    {
     "data": {
      "text/plain": [
       "function"
      ]
     },
     "execution_count": 22,
     "metadata": {},
     "output_type": "execute_result"
    }
   ],
   "source": [
    "addition=lambda a,b:a+b\n",
    "type(addition)\n"
   ]
  },
  {
   "cell_type": "code",
   "execution_count": 27,
   "id": "51d102e6",
   "metadata": {},
   "outputs": [
    {
     "data": {
      "text/plain": [
       "True"
      ]
     },
     "execution_count": 27,
     "metadata": {},
     "output_type": "execute_result"
    }
   ],
   "source": [
    "def even(num):\n",
    "    if num%2==0:\n",
    "        return True\n",
    "even(24)"
   ]
  },
  {
   "cell_type": "code",
   "execution_count": 28,
   "id": "74483013",
   "metadata": {},
   "outputs": [
    {
     "data": {
      "text/plain": [
       "True"
      ]
     },
     "execution_count": 28,
     "metadata": {},
     "output_type": "execute_result"
    }
   ],
   "source": [
    "even1 = lambda num:num%2==0\n",
    "even1(12)"
   ]
  },
  {
   "cell_type": "code",
   "execution_count": 31,
   "id": "504e570a",
   "metadata": {},
   "outputs": [
    {
     "name": "stdout",
     "output_type": "stream",
     "text": [
      "39\n"
     ]
    }
   ],
   "source": [
    "def addition(x, y, z):\n",
    "    return x + y + z\n",
    "\n",
    "# Call the function with three arguments\n",
    "result = addition(12, 13, 14)\n",
    "print(result)\n"
   ]
  },
  {
   "cell_type": "code",
   "execution_count": 33,
   "id": "16eaeed4",
   "metadata": {},
   "outputs": [
    {
     "data": {
      "text/plain": [
       "39"
      ]
     },
     "execution_count": 33,
     "metadata": {},
     "output_type": "execute_result"
    }
   ],
   "source": [
    "addition1 = lambda x,y,z:x+y+z\n",
    "addition1(12,13,14)\n"
   ]
  },
  {
   "cell_type": "code",
   "execution_count": 34,
   "id": "81c5743e",
   "metadata": {},
   "outputs": [
    {
     "data": {
      "text/plain": [
       "4"
      ]
     },
     "execution_count": 34,
     "metadata": {},
     "output_type": "execute_result"
    }
   ],
   "source": [
    "# map() - applies a function to all items in a list.\n",
    "number =[1,2,3,4,5,6]\n",
    "def square(number):\n",
    "    return number ** 2\n",
    "square(2)\n"
   ]
  },
  {
   "cell_type": "code",
   "execution_count": 1,
   "id": "c2965388",
   "metadata": {},
   "outputs": [
    {
     "name": "stdout",
     "output_type": "stream",
     "text": [
      "[1, 4, 9, 16, 25]\n"
     ]
    }
   ],
   "source": [
    "# Define the list of numbers\n",
    "numbers = [1, 2, 3, 4, 5]\n",
    "\n",
    "# Use map with a lambda function to square each number\n",
    "squared_numbers = list(map(lambda x: x**2, numbers))\n",
    "\n",
    "# Output the result\n",
    "print(squared_numbers)\n"
   ]
  },
  {
   "cell_type": "markdown",
   "id": "b5a948f4",
   "metadata": {},
   "source": []
  },
  {
   "cell_type": "code",
   "execution_count": null,
   "id": "71d0b9d8",
   "metadata": {},
   "outputs": [],
   "source": []
  },
  {
   "cell_type": "code",
   "execution_count": null,
   "id": "92c40543",
   "metadata": {},
   "outputs": [],
   "source": []
  },
  {
   "cell_type": "code",
   "execution_count": null,
   "id": "50d356cc",
   "metadata": {},
   "outputs": [],
   "source": []
  }
 ],
 "metadata": {
  "kernelspec": {
   "display_name": "Python 3 (ipykernel)",
   "language": "python",
   "name": "python3"
  },
  "language_info": {
   "codemirror_mode": {
    "name": "ipython",
    "version": 3
   },
   "file_extension": ".py",
   "mimetype": "text/x-python",
   "name": "python",
   "nbconvert_exporter": "python",
   "pygments_lexer": "ipython3",
   "version": "3.12.3"
  },
  "varInspector": {
   "cols": {
    "lenName": 16,
    "lenType": 16,
    "lenVar": 40
   },
   "kernels_config": {
    "python": {
     "delete_cmd_postfix": "",
     "delete_cmd_prefix": "del ",
     "library": "var_list.py",
     "varRefreshCmd": "print(var_dic_list())"
    },
    "r": {
     "delete_cmd_postfix": ") ",
     "delete_cmd_prefix": "rm(",
     "library": "var_list.r",
     "varRefreshCmd": "cat(var_dic_list()) "
    }
   },
   "types_to_exclude": [
    "module",
    "function",
    "builtin_function_or_method",
    "instance",
    "_Feature"
   ],
   "window_display": false
  }
 },
 "nbformat": 4,
 "nbformat_minor": 5
}
