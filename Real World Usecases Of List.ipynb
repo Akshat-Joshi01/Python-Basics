{
 "cells": [
  {
   "cell_type": "markdown",
   "id": "d84a1684",
   "metadata": {},
   "source": [
    "# Real world usecases of list\n",
    "\n",
    "#### List are one of the most commonly used data structures in python, thanks to their versatility and ease of use. Here are several parctical exa,ples tjat illustrate tjeir use in real-world scenarios.\n",
    "\n",
    "Example 1. Manage a to do list \n",
    "    .Ceate a to do list to keep track of tasks"
   ]
  },
  {
   "cell_type": "code",
   "execution_count": 1,
   "id": "f8aa9d55",
   "metadata": {},
   "outputs": [
    {
     "name": "stdout",
     "output_type": "stream",
     "text": [
      "To Do List remaining\n",
      "-Buy Groceries\n",
      "-Pay bills\n",
      "-Schedule meeting\n",
      "-Go For a Run\n"
     ]
    }
   ],
   "source": [
    "to_do_list=[\"Buy Groceries\",\"Clean the house\",\"Pay bills\"]\n",
    "\n",
    "## Adding to task\n",
    "to_do_list.append(\"Schedule meeting\")\n",
    "to_do_list.append(\"Go For a Run\")\n",
    "\n",
    "## Removing a complete task \n",
    "to_do_list.remove(\"Clean the house\")\n",
    "\n",
    "## Cheking if a task is in the list \n",
    "if \"Pay Bills\" in to_do_list:\n",
    "    print(\"Don't forget to pay the utility bills \")\n",
    "\n",
    "print(\"To Do List remaining\")\n",
    "for task in to_do_list:\n",
    "    print(f\"-{task}\")"
   ]
  },
  {
   "cell_type": "markdown",
   "id": "38cfd067",
   "metadata": {},
   "source": [
    "Example 2: Organixing student grades \n",
    ". Create a list to store and calculate average grades for students "
   ]
  },
  {
   "cell_type": "code",
   "execution_count": null,
   "id": "8c9eb59d",
   "metadata": {},
   "outputs": [],
   "source": [
    "# Organizing student grades \n",
    "grades = [85,92,78,90,88]\n",
    "\n",
    "# Adding a new grade\n",
    "grades.append(95)\n",
    "\n",
    "# Calculating the average grade \n",
    "avg_grade = sum(grades)/len(grades)\n",
    "print(f\"Average Grade : {avg_grade: .2f}\")\n",
    "\n",
    "# Finding the higest and lowest grades \n",
    "highest_grade = max(grades)\n",
    "lowest_grade = min(grades)\n",
    "print(f\"Highest Grade: {highest_grade}\")\n",
    "print(f\"Lowest Grade: {lowest_grade}\")\n"
   ]
  },
  {
   "cell_type": "markdown",
   "id": "d98b19d0",
   "metadata": {},
   "source": [
    "Example 3: Managing an Inventorys"
   ]
  },
  {
   "cell_type": "code",
   "execution_count": 3,
   "id": "d04f10a5",
   "metadata": {},
   "outputs": [
    {
     "name": "stdout",
     "output_type": "stream",
     "text": [
      "oranges are in store.\n",
      "Inventory List:\n",
      "-apples\n",
      "-oranges\n",
      "-grapes\n",
      "-strawberries\n"
     ]
    }
   ],
   "source": [
    "# Managing an inventory \n",
    "inventory = [\"apples\", \"bananas\", \"oranges\", \"grapes\"]\n",
    "\n",
    "# Adding a new item\n",
    "inventory.append(\"strawberries\")  # Adds \"strawberries\" to the list\n",
    "\n",
    "# Removing an item that is out of stock\n",
    "inventory.remove(\"bananas\")  # Removes \"bananas\" from the list\n",
    "\n",
    "# Checking if an item is in stock\n",
    "item = \"oranges\"  # The item you are checking for\n",
    "if item in inventory:\n",
    "    print(f\"{item} are in store.\")  # Prints if \"oranges\" is in the inventory\n",
    "else:\n",
    "    print(f\"{item} are out of stock\")\n",
    "    \n",
    "# Printing the inventory\n",
    "print(\"Inventory List:\")\n",
    "for item in inventory:\n",
    "    print(f\"-{item}\")\n"
   ]
  },
  {
   "cell_type": "markdown",
   "id": "e2b5facc",
   "metadata": {},
   "source": [
    "Example 4: Collecting user feedback \n",
    ".use a list to collect and analyze user feedback "
   ]
  },
  {
   "cell_type": "code",
   "execution_count": 5,
   "id": "2bbce94e",
   "metadata": {},
   "outputs": [
    {
     "name": "stdout",
     "output_type": "stream",
     "text": [
      "Positive Feedback Count: 2\n",
      "User Feedback:\n",
      "- Great service!\n",
      "- Very satisfied\n",
      "- Could be better\n",
      "- Excellent experience\n",
      "- Not happy with the service\n"
     ]
    }
   ],
   "source": [
    "# Collecting user feedback \n",
    "feedback = [\"Great service!\", \"Very satisfied\", \"Could be better\", \"Excellent experience\"]\n",
    "\n",
    "# Adding new feedback\n",
    "feedback.append(\"Not happy with the service\")\n",
    "\n",
    "# Counting specific feedback \n",
    "positive_feedback_count = sum(1 for comment in feedback if \"great\" \n",
    "                              in comment.lower() or \"excellent\" \n",
    "                              in comment.lower())\n",
    "print(f\"Positive Feedback Count: {positive_feedback_count}\")\n",
    "\n",
    "# Printing all feedback \n",
    "print(\"User Feedback:\")\n",
    "for comment in feedback:\n",
    "    print(f\"- {comment}\")\n"
   ]
  },
  {
   "cell_type": "code",
   "execution_count": null,
   "id": "f1ab643d",
   "metadata": {},
   "outputs": [],
   "source": []
  },
  {
   "cell_type": "code",
   "execution_count": null,
   "id": "08b675f3",
   "metadata": {},
   "outputs": [],
   "source": []
  },
  {
   "cell_type": "code",
   "execution_count": null,
   "id": "5b488d44",
   "metadata": {},
   "outputs": [],
   "source": []
  },
  {
   "cell_type": "code",
   "execution_count": null,
   "id": "f4a140d6",
   "metadata": {},
   "outputs": [],
   "source": []
  },
  {
   "cell_type": "code",
   "execution_count": null,
   "id": "f08561d9",
   "metadata": {},
   "outputs": [],
   "source": []
  }
 ],
 "metadata": {
  "kernelspec": {
   "display_name": "Python 3 (ipykernel)",
   "language": "python",
   "name": "python3"
  },
  "language_info": {
   "codemirror_mode": {
    "name": "ipython",
    "version": 3
   },
   "file_extension": ".py",
   "mimetype": "text/x-python",
   "name": "python",
   "nbconvert_exporter": "python",
   "pygments_lexer": "ipython3",
   "version": "3.12.3"
  },
  "varInspector": {
   "cols": {
    "lenName": 16,
    "lenType": 16,
    "lenVar": 40
   },
   "kernels_config": {
    "python": {
     "delete_cmd_postfix": "",
     "delete_cmd_prefix": "del ",
     "library": "var_list.py",
     "varRefreshCmd": "print(var_dic_list())"
    },
    "r": {
     "delete_cmd_postfix": ") ",
     "delete_cmd_prefix": "rm(",
     "library": "var_list.r",
     "varRefreshCmd": "cat(var_dic_list()) "
    }
   },
   "types_to_exclude": [
    "module",
    "function",
    "builtin_function_or_method",
    "instance",
    "_Feature"
   ],
   "window_display": false
  }
 },
 "nbformat": 4,
 "nbformat_minor": 5
}
