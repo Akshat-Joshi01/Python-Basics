{
 "cells": [
  {
   "cell_type": "markdown",
   "id": "35ec8690-256d-4240-b92c-25e2777f6fc9",
   "metadata": {},
   "source": [
    "Syntax and Semantics in python \r\n",
    "\r\n",
    "video outline :\r\n",
    ".Single line commants and multiline comments \r\n",
    ".Definition of Syntax and Semantics\r\n",
    ".Basic Syntax Rules in Python\r\n",
    ".Understanding Semantics in Python\r\n",
    ".Common Syntax and Errors and how to Avoid them \r\n",
    ".Practical code Examples\r\n",
    "\r\n",
    "Syntax refers to the set of ru;es that defines the combinations of symbols that are considered to be correctley structured programs in a language .In simple terms , syntax is about the correct arrangement of words and symbols in a code.\r\n",
    "\r\n",
    "Semantics refers to the meaning or the interpreation of tje symbols, characters, and commands in a language. It is about what the cide \r\n",
    "is supposed to do when it runs. "
   ]
  },
  {
   "cell_type": "code",
   "execution_count": 5,
   "id": "3b9cb2f1-d236-4b5a-abd3-1f78bf3a62b5",
   "metadata": {},
   "outputs": [
    {
     "name": "stdout",
     "output_type": "stream",
     "text": [
      "Akshat\n",
      "Joshi\n"
     ]
    }
   ],
   "source": [
    "## this is single line comment \n",
    "## this is an example of multi line comments  '''\n",
    "## basice syntax Rules in python '''\n",
    "## Case sensitivity - Python is case sensitive \n",
    "\n",
    "name = \"Akshat\"\n",
    "Name = \"Joshi\"\n",
    "\n",
    "print (name)\n",
    "print (Name)"
   ]
  },
  {
   "cell_type": "markdown",
   "id": "d57fc710-db89-4167-a050-56494a350950",
   "metadata": {},
   "source": [
    "Indentation :-\n",
    "in python is used to define the structer are hierarchy of the code .Unlike many other programming language that use braces {} to delimit blocks of code , python uses indentation to determine the grouping of statments. this means that all the statements within a block must be indented at the same level."
   ]
  },
  {
   "cell_type": "code",
   "execution_count": 7,
   "id": "ecf2e59b-f5b1-4ccb-bf85-b468949127e5",
   "metadata": {},
   "outputs": [
    {
     "name": "stdout",
     "output_type": "stream",
     "text": [
      "32\n",
      "32\n"
     ]
    }
   ],
   "source": [
    "## Indentation \n",
    "## Python used indantation to define to define blocks of code . consistent use of spaces\n",
    "##(commonly 4 ) or a tab is required.\n",
    "\n",
    "age = 32\n",
    "if age >30:\n",
    "    print(age)\n",
    "\n",
    "print (age)"
   ]
  },
  {
   "cell_type": "code",
   "execution_count": 9,
   "id": "1a73b6be-f233-4641-8752-642ac9cde994",
   "metadata": {},
   "outputs": [
    {
     "name": "stdout",
     "output_type": "stream",
     "text": [
      "Helo World\n"
     ]
    }
   ],
   "source": [
    "## this is single line comment\n",
    "print (\"Helo World\")"
   ]
  },
  {
   "cell_type": "code",
   "execution_count": 11,
   "id": "fa896ce6-ebbc-42e4-a141-046585a32f42",
   "metadata": {},
   "outputs": [
    {
     "name": "stdout",
     "output_type": "stream",
     "text": [
      "43\n"
     ]
    }
   ],
   "source": [
    "# line Continuation\n",
    "\n",
    "total = 1+2+3+4+5+6+7+\\\n",
    "4+5+6\n",
    "\n",
    "print (total)\n"
   ]
  },
  {
   "cell_type": "code",
   "execution_count": 13,
   "id": "07a5df08-d5fc-4dee-b900-55213cab4c75",
   "metadata": {},
   "outputs": [
    {
     "name": "stdout",
     "output_type": "stream",
     "text": [
      "15\n"
     ]
    }
   ],
   "source": [
    "# multiple statment on single line \n",
    "x =5; y=10; z=x+y\n",
    "print (z)"
   ]
  },
  {
   "cell_type": "code",
   "execution_count": 15,
   "id": "cbef2f64-bbdd-4dbf-8c4e-cc0f75da8728",
   "metadata": {},
   "outputs": [],
   "source": [
    "## Understanding semnatics in python \n",
    "# variable assignment \n",
    "age = 22 ## age is an integer\n",
    "name = \"Akshat\""
   ]
  },
  {
   "cell_type": "code",
   "execution_count": 17,
   "id": "1996aa8f-e121-4f53-9d4d-26375da1756d",
   "metadata": {},
   "outputs": [
    {
     "data": {
      "text/plain": [
       "int"
      ]
     },
     "execution_count": 17,
     "metadata": {},
     "output_type": "execute_result"
    }
   ],
   "source": [
    "type (age)"
   ]
  },
  {
   "cell_type": "code",
   "execution_count": 21,
   "id": "e915b59a-69b8-4c7e-88bf-9f4ba5714740",
   "metadata": {},
   "outputs": [
    {
     "data": {
      "text/plain": [
       "str"
      ]
     },
     "execution_count": 21,
     "metadata": {},
     "output_type": "execute_result"
    }
   ],
   "source": [
    "type (name)"
   ]
  },
  {
   "cell_type": "code",
   "execution_count": 29,
   "id": "28c4c10f-779d-4407-a4e9-94a2b3004468",
   "metadata": {},
   "outputs": [
    {
     "name": "stdout",
     "output_type": "stream",
     "text": [
      "<class 'int'>\n",
      "<class 'str'>\n"
     ]
    }
   ],
   "source": [
    "# Type Inference\n",
    "variable = 10\n",
    "print(type(variable))\n",
    "variable = \"Akshat\"\n",
    "print(type(variable))"
   ]
  },
  {
   "cell_type": "code",
   "execution_count": 33,
   "id": "9e7be01f-f152-4a88-bcef-77b256b25308",
   "metadata": {},
   "outputs": [
    {
     "name": "stdout",
     "output_type": "stream",
     "text": [
      "Correct Indentation\n",
      "This will print\n",
      "Outide the if block\n"
     ]
    }
   ],
   "source": [
    "## code examples of indentations \n",
    "if True :\n",
    "    print (\"Correct Indentation\")\n",
    "    if False :\n",
    "        print (\"This ont Print\")\n",
    "    print (\"This will print\")\n",
    "print (\"Outide the if block\")"
   ]
  },
  {
   "cell_type": "code",
   "execution_count": null,
   "id": "b5b49c66-9785-4825-9dd0-a643a4ec20ed",
   "metadata": {},
   "outputs": [],
   "source": []
  }
 ],
 "metadata": {
  "kernelspec": {
   "display_name": "Python 3 (ipykernel)",
   "language": "python",
   "name": "python3"
  },
  "language_info": {
   "codemirror_mode": {
    "name": "ipython",
    "version": 3
   },
   "file_extension": ".py",
   "mimetype": "text/x-python",
   "name": "python",
   "nbconvert_exporter": "python",
   "pygments_lexer": "ipython3",
   "version": "3.12.4"
  }
 },
 "nbformat": 4,
 "nbformat_minor": 5
}
