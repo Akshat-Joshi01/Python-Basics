{
 "cells": [
  {
   "cell_type": "markdown",
   "metadata": {},
   "source": [
    "Syntax and Semantics in python \n",
    "\n",
    "video outline :\n",
    ".Single line commants and multiline comments \n",
    ".Definition of Syntax and Semantics\n",
    ".Basic Syntax Rules in Python\n",
    ".Understanding Semantics in Python\n",
    ".Common Syntax and Errors and how to Avoid them \n",
    ".Practical code Examples\n",
    "\n",
    "Syntax refers to the set of ru;es that defines the combinations of symbols that are considered to be correctley structured programs in a language .In simple terms , syntax is about the correct arrangement of words and symbols in a code.\n",
    "\n",
    "Semantics refers to the meaning or the interpreation of tje symbols, characters, and commands in a language. It is about what the cide \n",
    "is supposed to do when it runs. "
   ]
  },
  {
   "cell_type": "code",
   "execution_count": null,
   "metadata": {
    "vscode": {
     "languageId": "plaintext"
    }
   },
   "outputs": [],
   "source": [
    "## Basic syntax rules in python \n",
    "## case sensitivity\n"
   ]
  }
 ],
 "metadata": {
  "language_info": {
   "name": "python"
  }
 },
 "nbformat": 4,
 "nbformat_minor": 2
}
